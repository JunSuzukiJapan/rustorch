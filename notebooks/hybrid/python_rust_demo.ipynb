{
 "cells": [
  {
   "cell_type": "markdown",
   "metadata": {},
   "source": [
    "# RusTorch Hybrid Demo: Python + Rust\n",
    "## 🦀🐍 PythonからRustを呼び出すデモ"
   ]
  },
  {
   "cell_type": "code",
   "execution_count": null,
   "metadata": {},
   "source": [
    "# Python セル\n",
    "import numpy as np\n",
    "import matplotlib.pyplot as plt\n",
    "from rustorch_bridge import rustorch, rust, tensor\n",
    "\n",
    "print(\"🐍 Python environment ready!\")\n",
    "print(\"🦀 RusTorch bridge loaded!\")"
   ],
   "outputs": []
  },
  {
   "cell_type": "code",
   "execution_count": null,
   "metadata": {},
   "source": [
    "# Python でデータを準備\n",
    "data = np.random.randn(10, 10)\n",
    "print(f\"Python data shape: {data.shape}\")\n",
    "\n",
    "# RusTorch でテンソル処理\n",
    "rust_result = rust('''\n",
    "    let tensor = Tensor::randn(&[10, 10]);\n",
    "    println!(\"Rust tensor created: {:?}\", tensor.shape());\n",
    "    let result = tensor.matmul(&tensor.transpose(0, 1));\n",
    "    println!(\"Matrix multiplication result shape: {:?}\", result.shape());\n",
    "''')\n",
    "print(rust_result)"
   ],
   "outputs": []
  }
 ],
 "metadata": {
  "kernelspec": {
   "display_name": "Python 3",
   "language": "python",
   "name": "python3"
  }
 },
 "nbformat": 4,
 "nbformat_minor": 4
}
