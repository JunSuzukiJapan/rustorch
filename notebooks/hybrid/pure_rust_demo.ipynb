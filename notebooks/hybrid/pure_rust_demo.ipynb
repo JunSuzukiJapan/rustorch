{
 "cells": [
  {
   "cell_type": "markdown",
   "metadata": {},
   "source": [
    "# RusTorch Pure Rust Demo\n",
    "## 🦀 ネイティブRustでの機械学習"
   ]
  },
  {
   "cell_type": "code",
   "execution_count": null,
   "metadata": {},
   "source": [
    ":dep rustorch = { path = \"../..\" }"
   ],
   "outputs": []
  },
  {
   "cell_type": "code",
   "execution_count": null,
   "metadata": {},
   "source": [
    "use rustorch::tensor::Tensor;\n",
    "use rustorch::nn::linear::Linear;\n",
    "\n",
    "// Create tensors\n",
    "let x = Tensor::randn(&[32, 10]);\n",
    "let y = Tensor::randn(&[32, 1]);\n",
    "\n",
    "println!(\"Input shape: {:?}\", x.shape());\n",
    "println!(\"Target shape: {:?}\", y.shape());"
   ],
   "outputs": []
  },
  {
   "cell_type": "code",
   "execution_count": null,
   "metadata": {},
   "source": [
    "// Create neural network\n",
    "let mut model = Linear::new(10, 1);\n",
    "\n",
    "// Forward pass\n",
    "let output = model.forward(&x);\n",
    "println!(\"Output shape: {:?}\", output.shape());\n",
    "\n",
    "// Simple training loop would go here\n",
    "println!(\"🦀 Pure Rust ML computation completed!\");"
   ],
   "outputs": []
  }
 ],
 "metadata": {
  "kernelspec": {
   "display_name": "Rust",
   "language": "rust",
   "name": "rust"
  }
 },
 "nbformat": 4,
 "nbformat_minor": 4
}
