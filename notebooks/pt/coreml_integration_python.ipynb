{
 "cells": [
  {
   "cell_type": "markdown",
   "metadata": {},
   "source": [
    "# Integração CoreML do RusTorch - Bindings Python\n",
    "\n",
    "Este notebook demonstra como usar a funcionalidade CoreML do RusTorch através de bindings Python."
   ]
  },
  {
   "cell_type": "markdown",
   "metadata": {},
   "source": [
    "## Configuração e Importações"
   ]
  },
  {
   "cell_type": "code",
   "execution_count": null,
   "metadata": {},
   "outputs": [],
   "source": [
    "# Importar bindings Python do RusTorch\n",
    "try:\n",
    "    import rustorch\n",
    "    print(f\"✅ Versão do RusTorch: {rustorch.__version__}\")\n",
    "    print(f\"📝 Descrição: {rustorch.__description__}\")\n",
    "    print(f\"👥 Autor: {rustorch.__author__}\")\n",
    "except ImportError as e:\n",
    "    print(f\"❌ Falha ao importar RusTorch: {e}\")\n",
    "    print(\"Por favor, compile com maturin develop\")\n",
    "    exit(1)\n",
    "\n",
    "import numpy as np\n",
    "import platform\n",
    "\n",
    "print(f\"🖥️ Plataforma: {platform.system()} {platform.release()}\")\n",
    "print(f\"🐍 Versão do Python: {platform.python_version()}\")"
   ]
  },
  {
   "cell_type": "markdown",
   "metadata": {},
   "source": [
    "## Verificar Disponibilidade do CoreML"
   ]
  },
  {
   "cell_type": "code",
   "execution_count": null,
   "metadata": {},
   "outputs": [],
   "source": [
    "# Verificar funcionalidade CoreML\n",
    "try:\n",
    "    # Verificar se CoreML está disponível\n",
    "    coreml_available = rustorch.is_coreml_available()\n",
    "    print(f\"🍎 CoreML disponível: {coreml_available}\")\n",
    "    \n",
    "    if coreml_available:\n",
    "        print(\"🎉 CoreML está disponível!\")\n",
    "        \n",
    "        # Obter informações do dispositivo\n",
    "        device_info = rustorch.get_coreml_device_info()\n",
    "        print(\"📱 Informações do dispositivo CoreML:\")\n",
    "        print(device_info)\n",
    "    else:\n",
    "        print(\"⚠️ CoreML não está disponível\")\n",
    "        if platform.system() != \"Darwin\":\n",
    "            print(\"CoreML está disponível apenas no macOS\")\n",
    "        else:\n",
    "            print(\"Recursos CoreML podem não estar habilitados\")\n",
    "            \n",
    "except AttributeError:\n",
    "    print(\"❌ Funções CoreML não encontradas\")\n",
    "    print(\"Pode não estar compilado com recursos CoreML\")\n",
    "    coreml_available = False\n",
    "except Exception as e:\n",
    "    print(f\"❌ Erro ao verificar CoreML: {e}\")\n",
    "    coreml_available = False"
   ]
  },
  {
   "cell_type": "markdown",
   "metadata": {},
   "source": [
    "## Criação de Dispositivo CoreML e Operações"
   ]
  },
  {
   "cell_type": "code",
   "execution_count": null,
   "metadata": {},
   "outputs": [],
   "source": [
    "if coreml_available:\n",
    "    try:\n",
    "        # Criar dispositivo CoreML\n",
    "        device = rustorch.CoreMLDevice(device_id=0)\n",
    "        print(f\"🖥️ Dispositivo CoreML criado: {device}\")\n",
    "        \n",
    "        # Obter informações do dispositivo\n",
    "        print(f\"🆔 ID do dispositivo: {device.device_id()}\")\n",
    "        print(f\"✅ Disponível: {device.is_available()}\")\n",
    "        print(f\"💾 Limite de memória: {device.memory_limit()} bytes\")\n",
    "        print(f\"🧮 Limite de unidades de computação: {device.compute_units_limit()}\")\n",
    "        print(f\"📚 Tamanho do cache do modelo: {device.model_cache_size()}\")\n",
    "        \n",
    "        # Limpeza do cache\n",
    "        device.cleanup_cache()\n",
    "        print(\"🧹 Cache limpo\")\n",
    "        \n",
    "    except Exception as e:\n",
    "        print(f\"❌ Erro na operação do dispositivo CoreML: {e}\")\n",
    "else:\n",
    "    print(\"⚠️ Pulando operações do dispositivo pois CoreML não está disponível\")"
   ]
  },
  {
   "cell_type": "markdown",
   "metadata": {},
   "source": [
    "## Configuração do Backend CoreML"
   ]
  },
  {
   "cell_type": "code",
   "execution_count": null,
   "metadata": {},
   "outputs": [],
   "source": [
    "if coreml_available:\n",
    "    try:\n",
    "        # Criar configuração do backend CoreML\n",
    "        config = rustorch.CoreMLBackendConfig(\n",
    "            enable_caching=True,\n",
    "            max_cache_size=200,\n",
    "            enable_profiling=True,\n",
    "            auto_fallback=True\n",
    "        )\n",
    "        print(f\"⚙️ Configuração do backend: {config}\")\n",
    "        \n",
    "        # Verificar e modificar valores de configuração\n",
    "        print(f\"📊 Habilitar cache: {config.enable_caching}\")\n",
    "        print(f\"🗂️ Tamanho máximo do cache: {config.max_cache_size}\")\n",
    "        print(f\"📈 Habilitar profiling: {config.enable_profiling}\")\n",
    "        print(f\"🔄 Fallback automático: {config.auto_fallback}\")\n",
    "        \n",
    "        # Modificar configuração\n",
    "        config.enable_profiling = False\n",
    "        config.max_cache_size = 150\n",
    "        print(f\"\\n🔧 Configuração atualizada: {config}\")\n",
    "        \n",
    "        # Criar backend CoreML\n",
    "        backend = rustorch.CoreMLBackend(config)\n",
    "        print(f\"🚀 Backend CoreML: {backend}\")\n",
    "        print(f\"✅ Backend disponível: {backend.is_available()}\")\n",
    "        \n",
    "        # Obter estatísticas do backend\n",
    "        stats = backend.get_stats()\n",
    "        print(f\"📊 Estatísticas do backend: {stats}\")\n",
    "        print(f\"   Operações totais: {stats.total_operations}\")\n",
    "        print(f\"   Acertos de cache: {stats.cache_hits}\")\n",
    "        print(f\"   Erros de cache: {stats.cache_misses}\")\n",
    "        print(f\"   Operações de fallback: {stats.fallback_operations}\")\n",
    "        print(f\"   Taxa de acerto de cache: {stats.cache_hit_rate():.2%}\")\n",
    "        print(f\"   Taxa de fallback: {stats.fallback_rate():.2%}\")\n",
    "        print(f\"   Tempo médio de execução: {stats.average_execution_time_ms:.2f}ms\")\n",
    "        \n",
    "        # Limpeza do cache\n",
    "        backend.cleanup_cache()\n",
    "        print(\"\\n🧹 Cache do backend limpo\")\n",
    "        \n",
    "    except Exception as e:\n",
    "        print(f\"❌ Erro na operação do backend CoreML: {e}\")\n",
    "else:\n",
    "    print(\"⚠️ Pulando operações do backend pois CoreML não está disponível\")"
   ]
  },
  {
   "cell_type": "markdown",
   "metadata": {},
   "source": [
    "## Operações Básicas de Tensor (CPU)\n",
    "\n",
    "Para comparar com CoreML, vamos primeiro realizar operações básicas na CPU."
   ]
  },
  {
   "cell_type": "code",
   "execution_count": null,
   "metadata": {},
   "outputs": [],
   "source": [
    "try:\n",
    "    # Criação e operações básicas de tensor\n",
    "    print(\"🧮 Operações básicas de tensor (CPU)\")\n",
    "    \n",
    "    # Criar tensores a partir de arrays NumPy (interface simplificada)\n",
    "    data_a = np.random.randn(2, 3).astype(np.float32)\n",
    "    data_b = np.random.randn(3, 2).astype(np.float32)\n",
    "    \n",
    "    print(f\"📐 Forma da matriz A: {data_a.shape}\")\n",
    "    print(f\"📐 Forma da matriz B: {data_b.shape}\")\n",
    "    \n",
    "    # Multiplicação de matrizes com NumPy (para comparação)\n",
    "    numpy_result = np.matmul(data_a, data_b)\n",
    "    print(f\"✅ Forma do resultado matmul NumPy: {numpy_result.shape}\")\n",
    "    print(f\"📊 Resultado (primeiros elementos): {numpy_result.flatten()[:4]}\")\n",
    "    \n",
    "    print(\"\\n🚀 Operações CPU completadas\")\n",
    "    \n",
    "except Exception as e:\n",
    "    print(f\"❌ Erro na operação de tensor: {e}\")"
   ]
  },
  {
   "cell_type": "markdown",
   "metadata": {},
   "source": [
    "## Simulação de Comparação de Performance"
   ]
  },
  {
   "cell_type": "code",
   "execution_count": null,
   "metadata": {},
   "outputs": [],
   "source": [
    "import time\n",
    "\n",
    "def benchmark_matrix_operations():\n",
    "    \"\"\"Comparar performance com diferentes tamanhos de matriz\"\"\"\n",
    "    \n",
    "    sizes = [(64, 64), (128, 128), (256, 256), (512, 512)]\n",
    "    \n",
    "    print(\"🏁 Comparação de performance:\")\n",
    "    print(\"Tamanho\\t\\tTempo CPU (ms)\\tCoreML Esperado (ms)\")\n",
    "    print(\"-\" * 58)\n",
    "    \n",
    "    for size in sizes:\n",
    "        # Medir tempo de execução CPU\n",
    "        a = np.random.randn(*size).astype(np.float32)\n",
    "        b = np.random.randn(size[1], size[0]).astype(np.float32)\n",
    "        \n",
    "        start_time = time.time()\n",
    "        result = np.matmul(a, b)\n",
    "        cpu_time = (time.time() - start_time) * 1000\n",
    "        \n",
    "        # Tempo CoreML esperado (hipotético)\n",
    "        # Na implementação real, usar medições reais do backend CoreML\n",
    "        expected_coreml_time = cpu_time * 0.6  # Suposição: CoreML é 40% mais rápido\n",
    "        \n",
    "        print(f\"{size[0]}x{size[1]}\\t\\t{cpu_time:.2f}\\t\\t{expected_coreml_time:.2f}\")\n",
    "\n",
    "benchmark_matrix_operations()\n",
    "\n",
    "print(\"\\n📝 Nota: Os tempos CoreML são hipotéticos. Valores reais dependem da implementação específica.\")"
   ]
  },
  {
   "cell_type": "markdown",
   "metadata": {},
   "source": [
    "## Simulação de Seleção de Dispositivo"
   ]
  },
  {
   "cell_type": "code",
   "execution_count": null,
   "metadata": {},
   "outputs": [],
   "source": [
    "def simulate_device_selection():\n",
    "    \"\"\"Simular seleção inteligente de dispositivo\"\"\"\n",
    "    \n",
    "    operations = [\n",
    "        (\"Multiplicação de matriz pequena\", (16, 16), \"CPU\"),\n",
    "        (\"Multiplicação de matriz média\", (128, 128), \"Metal GPU\"),\n",
    "        (\"Multiplicação de matriz grande\", (512, 512), \"CoreML\" if coreml_available else \"Metal GPU\"),\n",
    "        (\"Função de ativação\", (32, 64, 128, 128), \"Metal GPU\"),\n",
    "        (\"Convolução pequena\", (1, 3, 32, 32), \"CPU\"),\n",
    "        (\"Convolução grande\", (16, 64, 224, 224), \"CoreML\" if coreml_available else \"Metal GPU\"),\n",
    "        (\"Operações de números complexos\", (128, 128), \"Metal GPU\"),  # CoreML não suportado\n",
    "        (\"Distribuição estatística\", (1000,), \"CPU\"),  # CoreML não suportado\n",
    "    ]\n",
    "    \n",
    "    print(\"🎯 Simulação de seleção inteligente de dispositivo:\")\n",
    "    print(\"Operação\\t\\t\\tForma do Tensor\\t\\tDispositivo Selecionado\")\n",
    "    print(\"-\" * 78)\n",
    "    \n",
    "    for name, shape, device in operations:\n",
    "        shape_str = \"x\".join(map(str, shape))\n",
    "        print(f\"{name:<31}\\t{shape_str:<15}\\t{device}\")\n",
    "    \n",
    "    print(\"\\n📝 Lógica de seleção:\")\n",
    "    print(\"  • Operações pequenas: CPU (evitar overhead)\")\n",
    "    print(\"  • Operações médias: Metal GPU (balanceado)\")\n",
    "    print(\"  • Operações grandes: CoreML (otimizado)\")\n",
    "    print(\"  • Operações não suportadas: fallback GPU/CPU\")\n",
    "\n",
    "simulate_device_selection()"
   ]
  },
  {
   "cell_type": "markdown",
   "metadata": {},
   "source": [
    "## Exemplo Prático: Camada Simples de Rede Neural"
   ]
  },
  {
   "cell_type": "code",
   "execution_count": null,
   "metadata": {},
   "outputs": [],
   "source": [
    "def simulate_neural_network_layer():\n",
    "    \"\"\"Simular camada de rede neural\"\"\"\n",
    "    \n",
    "    print(\"🧠 Simulação de camada de rede neural:\")\n",
    "    \n",
    "    # Tamanho do lote e configuração da camada\n",
    "    batch_size = 32\n",
    "    input_features = 784  # 28x28 MNIST\n",
    "    hidden_features = 256\n",
    "    output_features = 10  # 10 classes\n",
    "    \n",
    "    print(f\"📊 Tamanho do lote: {batch_size}\")\n",
    "    print(f\"🔢 Características de entrada: {input_features}\")\n",
    "    print(f\"🧮 Características ocultas: {hidden_features}\")\n",
    "    print(f\"🎯 Características de saída: {output_features}\")\n",
    "    \n",
    "    # Simulação de forward pass\n",
    "    steps = [\n",
    "        (\"Entrada → Oculta\", f\"({batch_size}, {input_features}) @ ({input_features}, {hidden_features})\", \"CoreML\" if coreml_available else \"Metal\"),\n",
    "        (\"Ativação ReLU\", f\"({batch_size}, {hidden_features})\", \"Metal\"),\n",
    "        (\"Oculta → Saída\", f\"({batch_size}, {hidden_features}) @ ({hidden_features}, {output_features})\", \"CoreML\" if coreml_available else \"Metal\"),\n",
    "        (\"Softmax\", f\"({batch_size}, {output_features})\", \"CPU\"),\n",
    "    ]\n",
    "    \n",
    "    print(\"\\n🔄 Simulação de forward pass:\")\n",
    "    total_time = 0\n",
    "    \n",
    "    for step, shape, device in steps:\n",
    "        # Tempo de execução virtual (ms)\n",
    "        if device == \"CoreML\":\n",
    "            time_ms = np.random.uniform(0.5, 2.0)\n",
    "        elif device == \"Metal\":\n",
    "            time_ms = np.random.uniform(1.0, 3.0)\n",
    "        else:  # CPU\n",
    "            time_ms = np.random.uniform(0.2, 1.0)\n",
    "        \n",
    "        total_time += time_ms\n",
    "        print(f\"  {step:<15} {shape:<30} {device:<8} {time_ms:.2f}ms\")\n",
    "    \n",
    "    print(f\"\\n⏱️ Tempo total do forward pass: {total_time:.2f}ms\")\n",
    "    print(f\"🚀 Throughput estimado: {1000/total_time:.0f} lotes/segundo\")\n",
    "\n",
    "simulate_neural_network_layer()"
   ]
  },
  {
   "cell_type": "markdown",
   "metadata": {},
   "source": [
    "## Resumo e Próximos Passos"
   ]
  },
  {
   "cell_type": "code",
   "execution_count": null,
   "metadata": {},
   "outputs": [],
   "source": [
    "print(\"📋 Resumo da Integração CoreML do RusTorch:\")\n",
    "print()\n",
    "print(\"✅ Itens completados:\")\n",
    "print(\"  • Configuração do ambiente Jupyter\")\n",
    "print(\"  • Criação do kernel Rust e bindings Python\")\n",
    "print(\"  • Verificação de disponibilidade CoreML\")\n",
    "print(\"  • Gerenciamento de dispositivos e configuração\")\n",
    "print(\"  • Estatísticas e profiling do backend\")\n",
    "print(\"  • Seleção inteligente de dispositivo\")\n",
    "print()\n",
    "print(\"🚧 Desenvolvimento futuro:\")\n",
    "print(\"  • Implementação real de operações CoreML\")\n",
    "print(\"  • Benchmarking de performance\")\n",
    "print(\"  • Mais funções de ativação e tipos de camadas\")\n",
    "print(\"  • Melhorias no tratamento de erros\")\n",
    "print(\"  • Otimização de memória\")\n",
    "print()\n",
    "print(\"🎯 Próximos passos recomendados:\")\n",
    "print(\"  1. Carregar e testar modelos CoreML reais\")\n",
    "print(\"  2. Comparar performance Metal e CoreML\")\n",
    "print(\"  3. Testar com workflows de deep learning reais\")\n",
    "print(\"  4. Avaliar em ambiente de produção\")\n",
    "\n",
    "if coreml_available:\n",
    "    print(\"\\n🎉 Parabéns! CoreML está disponível e todas as funcionalidades podem ser testadas.\")\n",
    "else:\n",
    "    print(\"\\n⚠️ CoreML não está disponível, mas as funcionalidades básicas estão funcionando.\")\n",
    "    print(\"   Recomendamos compilar com funcionalidades CoreML habilitadas no macOS.\")"
   ]
  }
 ],
 "metadata": {
  "kernelspec": {
   "display_name": "Python 3",
   "language": "python",
   "name": "python3"
  },
  "language_info": {
   "codemirror_mode": {
    "name": "ipython",
    "version": 3
   },
   "file_extension": ".py",
   "mimetype": "text/x-python",
   "name": "python",
   "nbconvert_exporter": "python",
   "pygments_lexer": "ipython3",
   "version": "3.8.5"
  }
 },
 "nbformat": 4,
 "nbformat_minor": 4
}