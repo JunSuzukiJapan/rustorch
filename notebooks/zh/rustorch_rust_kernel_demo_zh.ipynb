{
 "cells": [
  {
   "cell_type": "markdown",
   "metadata": {},
   "source": [
    "# 🦀 RusTorch Rust 内核演示\n",
    "\n",
    "此笔记本演示如何在 Jupyter 中直接使用 Rust 的 RusTorch！\n",
    "\n",
    "## 功能特性：\n",
    "- 🔥 **原生 Rust 性能**：零开销抽象\n",
    "- 🧮 **直接张量操作**：类型安全的矩阵计算\n",
    "- 🧠 **神经网络构建**：生产就绪的深度学习\n",
    "- ⚡ **GPU 加速**：CUDA/Metal/OpenCL 支持\n",
    "\n",
    "让我们开始吧！"
   ]
  },
  {
   "cell_type": "markdown",
   "metadata": {},
   "source": [
    "## 📦 设置依赖项\n",
    "\n",
    "首先，让我们添加 RusTorch 和 ndarray 作为依赖项："
   ]
  },
  {
   "cell_type": "code",
   "execution_count": null,
   "metadata": {},
   "outputs": [],
   "source": ":dep rustorch = \"0.6.27\"\n:dep ndarray = \"0.16\"\n\n// evcxr 配置\nextern crate rustorch;\nextern crate ndarray;"
  },
  {
   "cell_type": "markdown",
   "metadata": {},
   "source": [
    "## 🎯 导入库\n",
    "\n",
    "导入 RusTorch 和 ndarray 以及 array 宏："
   ]
  },
  {
   "cell_type": "code",
   "execution_count": null,
   "metadata": {},
   "outputs": [],
   "source": "use rustorch::prelude::*;\nuse std::time::Instant;\n\nprintln!(\"✅ RusTorch 导入成功！\");"
  },
  {
   "cell_type": "markdown",
   "metadata": {},
   "source": [
    "## 🔥 基本张量操作\n",
    "\n",
    "创建张量并执行基本操作："
   ]
  },
  {
   "cell_type": "code",
   "execution_count": null,
   "metadata": {},
   "outputs": [],
   "source": "// 从向量创建张量\nlet a = Tensor::from_vec(vec![1.0, 2.0, 3.0, 4.0], vec![2, 2]);\nlet b = Tensor::from_vec(vec![5.0, 6.0, 7.0, 8.0], vec![2, 2]);\n\nprintln!(\"张量 a: {:?}\", a);\nprintln!(\"张量 b: {:?}\", b);\nprintln!(\"a 的形状: {:?}\", a.shape());\nprintln!(\"b 的形状: {:?}\", b.shape());"
  },
  {
   "cell_type": "code",
   "execution_count": null,
   "metadata": {},
   "outputs": [],
   "source": "// 矩阵乘法\nlet matmul_result = a.matmul(&b).expect(\"Matrix multiplication failed\");\nprintln!(\"矩阵乘法 a @ b: {:?}\", matmul_result);\n\n// 逐元素操作\nlet sum = &a + &b;\nprintln!(\"逐元素相加 a + b: {:?}\", sum);\n\nlet product = &a * &b;\nprintln!(\"逐元素相乘 a * b: {:?}\", product);"
  },
  {
   "cell_type": "markdown",
   "metadata": {},
   "source": "// 创建特殊张量（显式类型注释）\nlet zeros: Tensor<f32> = Tensor::zeros(&[3, 3]);\nlet ones: Tensor<f32> = Tensor::ones(&[3, 3]);\nlet random: Tensor<f32> = Tensor::randn(&[3, 3]);\n\nprintln!(\"零张量: {:?}\", zeros);\nprintln!(\"一张量: {:?}\", ones);\nprintln!(\"随机张量: {:?}\", random);"
  },
  {
   "cell_type": "code",
   "execution_count": null,
   "metadata": {},
   "outputs": [],
   "source": "// 创建包含正负值的张量\nlet input = Tensor::from_vec(vec![-2.0, -1.0, 0.0, 1.0, 2.0], vec![5]);\nprintln!(\"输入: {:?}\", input);\n\n// 注意: 激活函数可通过nn::activation模块使用\nprintln!(\"RusTorch张量操作正常工作！\");"
  },
  {
   "cell_type": "markdown",
   "metadata": {},
   "source": [
    "## ⚡ 性能基准测试\n",
    "\n",
    "比较不同操作的性能："
   ]
  },
  {
   "cell_type": "code",
   "execution_count": null,
   "metadata": {},
   "outputs": [],
   "source": [
    "// 矩阵乘法基准测试\n",
    "let size = 256;\n",
    "let a = Tensor::randn(&[size, size]);\n",
    "let b = Tensor::randn(&[size, size]);\n",
    "\n",
    "println!(\"🏁 基准测试 {}x{} 矩阵乘法...\", size, size);\n",
    "\n",
    "let start = Instant::now();\n",
    "let result = a.matmul(&b);\n",
    "let duration = start.elapsed();\n",
    "\n",
    "println!(\"✅ 完成时间: {:?}\", duration);\n",
    "println!(\"📊 结果形状: {:?}\", result.shape());\n",
    "println!(\"📈 吞吐量: {:.2} GFLOPS\", \n",
    "    (2.0 * size as f64 * size as f64 * size as f64) / (duration.as_secs_f64() * 1e9));"
   ]
  },
  {
   "cell_type": "markdown",
   "metadata": {},
   "source": [
    "## 🎉 总结\n",
    "\n",
    "现在您可以在 Jupyter 中直接编写和执行 Rust 代码！\n",
    "\n",
    "**优势：**\n",
    "- 🚀 原生 Rust 性能\n",
    "- 🔧 直接库访问\n",
    "- 🎯 类型安全\n",
    "- ⚡ 零成本抽象\n",
    "- 🖥️ GPU 加速支持\n",
    "\n",
    "**下一步：**\n",
    "- 探索使用 CUDA/Metal/OpenCL 后端的 GPU 加速\n",
    "- 构建更复杂的神经网络架构\n",
    "- 尝试 transformer 模型和高级优化器\n",
    "\n",
    "祝您使用 RusTorch 编程愉快！🦀⚡"
   ]
  }
 ],
 "metadata": {
  "kernelspec": {
   "display_name": "Rust",
   "language": "rust",
   "name": "rust"
  },
  "language_info": {
   "codemirror_mode": "rust",
   "file_extension": ".rs",
   "mimetype": "text/rust",
   "name": "Rust",
   "pygment_lexer": "rust",
   "version": ""
  }
 },
 "nbformat": 4,
 "nbformat_minor": 4
}