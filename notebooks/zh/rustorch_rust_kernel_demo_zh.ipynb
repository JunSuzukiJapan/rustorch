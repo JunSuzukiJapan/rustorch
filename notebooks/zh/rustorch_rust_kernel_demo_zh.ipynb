{
 "cells": [
  {
   "cell_type": "markdown",
   "metadata": {},
   "source": [
    "# 🦀 RusTorch Rust 内核演示\n",
    "\n",
    "此笔记本演示如何在 Jupyter 中直接使用 Rust 的 RusTorch！\n",
    "\n",
    "## 功能特性：\n",
    "- 🔥 **原生 Rust 性能**：零开销抽象\n",
    "- 🧮 **直接张量操作**：类型安全的矩阵计算\n",
    "- 🧠 **神经网络构建**：生产就绪的深度学习\n",
    "- ⚡ **GPU 加速**：CUDA/Metal/OpenCL 支持\n",
    "\n",
    "让我们开始吧！"
   ]
  },
  {
   "cell_type": "markdown",
   "metadata": {},
   "source": [
    "## 📦 设置依赖项\n",
    "\n",
    "首先，让我们添加 RusTorch 和 ndarray 作为依赖项："
   ]
  },
  {
   "cell_type": "code",
   "execution_count": null,
   "metadata": {},
   "outputs": [],
   "source": [
    ":dep rustorch = \"0.5.11\"\n",
    ":dep ndarray = \"0.16\""
   ]
  },
  {
   "cell_type": "markdown",
   "metadata": {},
   "source": [
    "## 🎯 导入库\n",
    "\n",
    "导入 RusTorch 和 ndarray 以及 array 宏："
   ]
  },
  {
   "cell_type": "code",
   "execution_count": null,
   "metadata": {},
   "outputs": [],
   "source": [
    "use rustorch::*;\n",
    "use ndarray::prelude::*;\n",
    "use ndarray::array;\n",
    "use std::time::Instant;\n",
    "\n",
    "println!(\"✅ RusTorch 和 ndarray 导入成功！\");"
   ]
  },
  {
   "cell_type": "markdown",
   "metadata": {},
   "source": [
    "## 🔥 基本张量操作\n",
    "\n",
    "创建张量并执行基本操作："
   ]
  },
  {
   "cell_type": "code",
   "execution_count": null,
   "metadata": {},
   "outputs": [],
   "source": [
    "// 使用 array! 宏创建张量\n",
    "let a = Tensor::from_array(array![[1.0, 2.0], [3.0, 4.0]]);\n",
    "let b = Tensor::from_array(array![[5.0, 6.0], [7.0, 8.0]]);\n",
    "\n",
    "println!(\"张量 a: {:?}\", a);\n",
    "println!(\"张量 b: {:?}\", b);\n",
    "println!(\"a 的形状: {:?}\", a.shape());\n",
    "println!(\"b 的形状: {:?}\", b.shape());"
   ]
  },
  {
   "cell_type": "code",
   "execution_count": null,
   "metadata": {},
   "outputs": [],
   "source": [
    "// 矩阵乘法\n",
    "let matmul_result = a.matmul(&b);\n",
    "println!(\"矩阵乘法 a @ b: {:?}\", matmul_result);\n",
    "\n",
    "// 逐元素操作\n",
    "let sum = &a + &b;\n",
    "println!(\"逐元素相加 a + b: {:?}\", sum);\n",
    "\n",
    "let product = &a * &b;\n",
    "println!(\"逐元素相乘 a * b: {:?}\", product);"
   ]
  },
  {
   "cell_type": "markdown",
   "metadata": {},
   "source": [
    "## 🧠 激活函数\n",
    "\n",
    "应用神经网络激活函数："
   ]
  },
  {
   "cell_type": "code",
   "execution_count": null,
   "metadata": {},
   "outputs": [],
   "source": [
    "// 创建包含正负值的张量\n",
    "let input = Tensor::from_array(array![[-2.0, -1.0, 0.0, 1.0, 2.0]]);\n",
    "println!(\"输入: {:?}\", input);\n",
    "\n",
    "// 应用激活函数\n",
    "let relu_result = input.relu();\n",
    "let sigmoid_result = input.sigmoid();\n",
    "let tanh_result = input.tanh();\n",
    "\n",
    "println!(\"ReLU: {:?}\", relu_result);\n",
    "println!(\"Sigmoid: {:?}\", sigmoid_result);\n",
    "println!(\"Tanh: {:?}\", tanh_result);"
   ]
  },
  {
   "cell_type": "markdown",
   "metadata": {},
   "source": [
    "## ⚡ 性能基准测试\n",
    "\n",
    "比较不同操作的性能："
   ]
  },
  {
   "cell_type": "code",
   "execution_count": null,
   "metadata": {},
   "outputs": [],
   "source": [
    "// 矩阵乘法基准测试\n",
    "let size = 256;\n",
    "let a = Tensor::randn(&[size, size]);\n",
    "let b = Tensor::randn(&[size, size]);\n",
    "\n",
    "println!(\"🏁 基准测试 {}x{} 矩阵乘法...\", size, size);\n",
    "\n",
    "let start = Instant::now();\n",
    "let result = a.matmul(&b);\n",
    "let duration = start.elapsed();\n",
    "\n",
    "println!(\"✅ 完成时间: {:?}\", duration);\n",
    "println!(\"📊 结果形状: {:?}\", result.shape());\n",
    "println!(\"📈 吞吐量: {:.2} GFLOPS\", \n",
    "    (2.0 * size as f64 * size as f64 * size as f64) / (duration.as_secs_f64() * 1e9));"
   ]
  },
  {
   "cell_type": "markdown",
   "metadata": {},
   "source": [
    "## 🎉 总结\n",
    "\n",
    "现在您可以在 Jupyter 中直接编写和执行 Rust 代码！\n",
    "\n",
    "**优势：**\n",
    "- 🚀 原生 Rust 性能\n",
    "- 🔧 直接库访问\n",
    "- 🎯 类型安全\n",
    "- ⚡ 零成本抽象\n",
    "- 🖥️ GPU 加速支持\n",
    "\n",
    "**下一步：**\n",
    "- 探索使用 CUDA/Metal/OpenCL 后端的 GPU 加速\n",
    "- 构建更复杂的神经网络架构\n",
    "- 尝试 transformer 模型和高级优化器\n",
    "\n",
    "祝您使用 RusTorch 编程愉快！🦀⚡"
   ]
  }
 ],
 "metadata": {
  "kernelspec": {
   "display_name": "Rust",
   "language": "rust",
   "name": "rust"
  },
  "language_info": {
   "codemirror_mode": "rust",
   "file_extension": ".rs",
   "mimetype": "text/rust",
   "name": "Rust",
   "pygment_lexer": "rust",
   "version": ""
  }
 },
 "nbformat": 4,
 "nbformat_minor": 4
}