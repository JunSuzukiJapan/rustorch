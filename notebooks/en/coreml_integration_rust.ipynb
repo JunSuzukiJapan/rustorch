{
 "cells": [
  {
   "cell_type": "markdown",
   "metadata": {},
   "source": [
    "# RusTorch CoreML Integration - Rust Kernel\n",
    "\n",
    "This notebook demonstrates how to use CoreML with RusTorch.\n",
    "This runs on the Rust kernel."
   ]
  },
  {
   "cell_type": "markdown",
   "metadata": {},
   "source": [
    "## Check Required Dependencies and Features"
   ]
  },
  {
   "cell_type": "code",
   "execution_count": null,
   "metadata": {},
   "outputs": [],
   "source": [
    "// Basic RusTorch usage\n",
    "extern crate rustorch;\n",
    "\n",
    "use rustorch::tensor::Tensor;\n",
    "use rustorch::gpu::DeviceType;\n",
    "\n",
    "println!(\"RusTorch version: {}\", env!(\"CARGO_PKG_VERSION\"));\n",
    "println!(\"Rust version: {}\", env!(\"RUSTC_VERSION\"));"
   ]
  },
  {
   "cell_type": "markdown",
   "metadata": {},
   "source": [
    "## Check CoreML Availability\n",
    "\n",
    "Check if CoreML is available on the current system."
   ]
  },
  {
   "cell_type": "code",
   "execution_count": null,
   "metadata": {},
   "outputs": [],
   "source": [
    "#[cfg(any(feature = \"coreml\", feature = \"coreml-hybrid\", feature = \"coreml-fallback\"))]\n",
    "{\n",
    "    use rustorch::backends::DeviceManager;\n",
    "    \n",
    "    let coreml_available = DeviceManager::is_coreml_available();\n",
    "    println!(\"CoreML available: {}\", coreml_available);\n",
    "    \n",
    "    if coreml_available {\n",
    "        println!(\"🎉 CoreML is available!\");\n",
    "        println!(\"Platform: macOS\");\n",
    "        \n",
    "        // Display device information\n",
    "        use rustorch::gpu::coreml::device_cache::DeviceCache;\n",
    "        let cache = DeviceCache::global();\n",
    "        cache.warmup();\n",
    "        \n",
    "        let stats = cache.get_stats();\n",
    "        println!(\"Cache stats: {:?}\", stats);\n",
    "    } else {\n",
    "        println!(\"⚠️ CoreML is not available\");\n",
    "        println!(\"Please use CPU or other GPU backends\");\n",
    "    }\n",
    "}\n",
    "\n",
    "#[cfg(not(any(feature = \"coreml\", feature = \"coreml-hybrid\", feature = \"coreml-fallback\")))]\n",
    "{\n",
    "    println!(\"❌ CoreML features are not enabled\");\n",
    "    println!(\"Please build with --features coreml\");\n",
    "}"
   ]
  },
  {
   "cell_type": "markdown",
   "metadata": {},
   "source": [
    "## Basic Tensor Operations"
   ]
  },
  {
   "cell_type": "code",
   "execution_count": null,
   "metadata": {},
   "outputs": [],
   "source": [
    "// Create basic tensors\n",
    "let a = Tensor::zeros(&[2, 3]);\n",
    "let b = Tensor::ones(&[3, 2]);\n",
    "\n",
    "println!(\"Tensor A shape: {:?}\", a.shape());\n",
    "println!(\"Tensor B shape: {:?}\", b.shape());\n",
    "\n",
    "// Matrix multiplication on CPU\n",
    "match a.matmul(&b) {\n",
    "    Ok(result) => {\n",
    "        println!(\"Matrix multiplication result shape: {:?}\", result.shape());\n",
    "        println!(\"CPU operation completed ✓\");\n",
    "    }\n",
    "    Err(e) => println!(\"Error: {:?}\", e),\n",
    "}"
   ]
  },
  {
   "cell_type": "markdown",
   "metadata": {},
   "source": [
    "## Using CoreML Backend (if available)"
   ]
  },
  {
   "cell_type": "code",
   "execution_count": null,
   "metadata": {},
   "outputs": [],
   "source": [
    "#[cfg(any(feature = \"coreml\", feature = \"coreml-hybrid\", feature = \"coreml-fallback\"))]\n",
    "{\n",
    "    use rustorch::gpu::coreml::backend::{CoreMLBackend, CoreMLBackendConfig};\n",
    "    use rustorch::backends::DeviceManager;\n",
    "    \n",
    "    if DeviceManager::is_coreml_available() {\n",
    "        println!(\"🚀 Initializing CoreML backend...\");\n",
    "        \n",
    "        let config = CoreMLBackendConfig {\n",
    "            enable_caching: true,\n",
    "            max_cache_size: 100,\n",
    "            auto_fallback: true,\n",
    "            enable_profiling: true,\n",
    "        };\n",
    "        \n",
    "        match CoreMLBackend::new(config) {\n",
    "            Ok(backend) => {\n",
    "                println!(\"✅ CoreML backend initialization completed\");\n",
    "                println!(\"Ready: {}\", backend.is_available());\n",
    "                \n",
    "                // Display backend statistics\n",
    "                let stats = backend.get_stats();\n",
    "                println!(\"Backend stats: total_operations={}, cache_hits={}, cache_misses={}\", \n",
    "                         stats.total_operations, stats.cache_hits, stats.cache_misses);\n",
    "            }\n",
    "            Err(e) => {\n",
    "                println!(\"❌ CoreML backend initialization failed: {:?}\", e);\n",
    "            }\n",
    "        }\n",
    "    } else {\n",
    "        println!(\"⚠️ CoreML not available, running on CPU\");\n",
    "    }\n",
    "}\n",
    "\n",
    "#[cfg(not(any(feature = \"coreml\", feature = \"coreml-hybrid\", feature = \"coreml-fallback\")))]\n",
    "{\n",
    "    println!(\"CoreML features are disabled. Running on CPU.\");\n",
    "}"
   ]
  },
  {
   "cell_type": "markdown",
   "metadata": {},
   "source": [
    "## Device Selection Demonstration"
   ]
  },
  {
   "cell_type": "code",
   "execution_count": null,
   "metadata": {},
   "outputs": [],
   "source": [
    "#[cfg(any(feature = \"coreml\", feature = \"coreml-hybrid\", feature = \"coreml-fallback\"))]\n",
    "{\n",
    "    use rustorch::gpu::coreml::smart_device_selector::{\n",
    "        SmartDeviceSelector, OperationProfile, OperationType\n",
    "    };\n",
    "    use rustorch::gpu::DeviceType;\n",
    "    \n",
    "    // Define available devices\n",
    "    let available_devices = vec![\n",
    "        DeviceType::CoreML(0),\n",
    "        DeviceType::Metal(0),\n",
    "        DeviceType::Cpu,\n",
    "    ];\n",
    "    \n",
    "    let selector = SmartDeviceSelector::new(available_devices);\n",
    "    \n",
    "    // Test device selection with different operation profiles\n",
    "    let operations = vec![\n",
    "        (\"Small matrix multiplication\", OperationProfile::new(\n",
    "            OperationType::MatrixMultiplication,\n",
    "            &[16, 16],\n",
    "            4\n",
    "        )),\n",
    "        (\"Large matrix multiplication\", OperationProfile::new(\n",
    "            OperationType::MatrixMultiplication,\n",
    "            &[512, 512],\n",
    "            4\n",
    "        )),\n",
    "        (\"Activation function\", OperationProfile::new(\n",
    "            OperationType::Activation,\n",
    "            &[32, 64, 128, 128],\n",
    "            4\n",
    "        )),\n",
    "        (\"Complex number operations (CoreML unsupported)\", OperationProfile::new(\n",
    "            OperationType::ComplexNumber,\n",
    "            &[128, 128],\n",
    "            8\n",
    "        )),\n",
    "    ];\n",
    "    \n",
    "    println!(\"🎯 Smart device selection demo:\");\n",
    "    for (name, profile) in operations {\n",
    "        let selected_device = selector.select_device(&profile);\n",
    "        println!(\"  {}: {:?}\", name, selected_device);\n",
    "    }\n",
    "}\n",
    "\n",
    "#[cfg(not(any(feature = \"coreml\", feature = \"coreml-hybrid\", feature = \"coreml-fallback\")))]\n",
    "{\n",
    "    println!(\"Device selection functionality requires CoreML features.\");\n",
    "}"
   ]
  },
  {
   "cell_type": "markdown",
   "metadata": {},
   "source": [
    "## Summary\n",
    "\n",
    "This notebook demonstrated the following:\n",
    "\n",
    "1. ✅ **CoreML Availability Check**: Checking if CoreML is available on the system\n",
    "2. ✅ **Basic Tensor Operations**: Matrix multiplication on CPU\n",
    "3. ✅ **CoreML Backend**: CoreML backend initialization when available\n",
    "4. ✅ **Smart Device Selection**: Optimal device selection based on operation characteristics\n",
    "\n",
    "### Next Steps\n",
    "\n",
    "- Implementation of more complex neural network operations\n",
    "- Performance comparison (CPU vs CoreML vs Metal)\n",
    "- Integration with actual CoreML models\n",
    "\n",
    "### Notes\n",
    "\n",
    "- CoreML is only available on macOS\n",
    "- Some operations are not supported by CoreML and will automatically fallback to CPU or other GPU\n",
    "- Performance varies depending on specific hardware and operation types"
   ]
  }
 ],
 "metadata": {
  "kernelspec": {\n   \"display_name\": \"Rust\",\n   \"language\": \"rust\",\n   \"name\": \"rust\"\n  },\n  \"language_info\": {\n   \"codemirror_mode\": \"rust\",\n   \"file_extension\": \".rs\",\n   \"mimetype\": \"text/rust\",\n   \"name\": \"Rust\",\n   \"pygment_lexer\": \"rust\",\n   \"version\": \"\"\n  }\n },\n \"nbformat\": 4,\n \"nbformat_minor\": 4\n}