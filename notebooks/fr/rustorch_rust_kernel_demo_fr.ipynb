{
 "cells": [
  {
   "cell_type": "markdown",
   "metadata": {},
   "source": [
    "# 🦀 Démo RusTorch avec Noyau Rust\n",
    "\n",
    "Ce notebook démontre comment utiliser RusTorch directement en Rust dans Jupyter !\n",
    "\n",
    "## Fonctionnalités :\n",
    "- 🔥 **Performance Rust Native** : Abstractions à coût zéro\n",
    "- 🧮 **Opérations Tensorielles Directes** : Calculs matriciels type-safe\n",
    "- 🧠 **Construction de Réseaux de Neurones** : Deep learning prêt pour la production\n",
    "- ⚡ **Accélération GPU** : Support CUDA/Metal/OpenCL\n",
    "\n",
    "Commençons !"
   ]
  },
  {
   "cell_type": "markdown",
   "metadata": {},
   "source": [
    "## 📦 Configuration des Dépendances\n",
    "\n",
    "D'abord, ajoutons RusTorch et ndarray comme dépendances :"
   ]
  },
  {
   "cell_type": "code",
   "execution_count": null,
   "metadata": {},
   "outputs": [],
   "source": ":dep rustorch = \"0.6.22\"\n:dep ndarray = \"0.16\"\n\n// Configuration pour evcxr\nextern crate rustorch;\nextern crate ndarray;"
  },
  {
   "cell_type": "markdown",
   "metadata": {},
   "source": [
    "## 🎯 Importation des Bibliothèques\n",
    "\n",
    "Importons RusTorch et ndarray avec la macro array :"
   ]
  },
  {
   "cell_type": "code",
   "execution_count": null,
   "metadata": {},
   "outputs": [],
   "source": "use rustorch::prelude::*;\nuse std::time::Instant;\n\nprintln!(\"✅ RusTorch importé avec succès !\");"
  },
  {
   "cell_type": "markdown",
   "metadata": {},
   "source": [
    "## 🔥 Opérations Tensorielles de Base\n",
    "\n",
    "Créons des tenseurs et effectuons des opérations de base :"
   ]
  },
  {
   "cell_type": "code",
   "execution_count": null,
   "metadata": {},
   "outputs": [],
   "source": "// Créer des tenseurs à partir de vecteurs\nlet a = Tensor::from_vec(vec![1.0, 2.0, 3.0, 4.0], vec![2, 2]);\nlet b = Tensor::from_vec(vec![5.0, 6.0, 7.0, 8.0], vec![2, 2]);\n\nprintln!(\"Tenseur a: {:?}\", a);\nprintln!(\"Tenseur b: {:?}\", b);\nprintln!(\"Forme de a: {:?}\", a.shape());\nprintln!(\"Forme de b: {:?}\", b.shape());"
  },
  {
   "cell_type": "code",
   "execution_count": null,
   "metadata": {},
   "outputs": [],
   "source": "// Multiplication matricielle\nlet matmul_result = a.matmul(&b).expect(\"Matrix multiplication failed\");\nprintln!(\"Multiplication matricielle a @ b : {:?}\", matmul_result);\n\n// Opérations élément par élément\nlet sum = &a + &b;\nprintln!(\"Somme élément par élément a + b : {:?}\", sum);\n\nlet product = &a * &b;\nprintln!(\"Produit élément par élément a * b : {:?}\", product);"
  },
  {
   "cell_type": "markdown",
   "metadata": {},
   "source": "## 🧮 Opérations Avancées"
  },
  {
   "cell_type": "code",
   "source": "// Créer des tenseurs spéciaux (avec annotations de type explicites)\nlet zeros: Tensor<f32> = Tensor::zeros(&[3, 3]);\nlet ones: Tensor<f32> = Tensor::ones(&[3, 3]);\nlet random: Tensor<f32> = Tensor::randn(&[3, 3]);\n\nprintln!(\"Tenseur zéros: {:?}\", zeros);\nprintln!(\"Tenseur uns: {:?}\", ones);\nprintln!(\"Tenseur aléatoire: {:?}\", random);\n\n// Application des fonctions d'activation\n// Note : Utilisation des fonctions d'activation du module nn\nprintln!(\"Opérations tensorielles terminées avec succès !\");",
   "metadata": {},
   "execution_count": null,
   "outputs": []
  },
  {
   "cell_type": "code",
   "source": "use rustorch::nn::*;\n\n// Créer des couches de réseau neuronal de base (avec annotations de type explicites)\nlet linear1: Linear<f32> = Linear::new(784, 128);\nlet linear2: Linear<f32> = Linear::new(128, 10);\n\nprintln!(\"Couches de réseau neuronal créées\");\nprintln!(\"Couche d'entrée: 784 → Couche cachée: 128 → Couche de sortie: 10\");\n\n// Créer une entrée d'exemple\nlet input: Tensor<f32> = Tensor::randn(&[1, 784]); // Taille de lot 1, 784 caractéristiques\n\n// Démontrer la création de couches (la passe avant nécessite une configuration plus complexe)\nprintln!(\"Forme de l'entrée: {:?}\", input.shape());\nprintln!(\"Couche linéaire 1: 784 → 128 neurones\");\nprintln!(\"Couche linéaire 2: 128 → 10 classes de sortie\");\nprintln!(\"Configuration des couches de réseau neuronal terminée!\");",
   "metadata": {},
   "execution_count": null,
   "outputs": []
  },
  {
   "cell_type": "markdown",
   "source": "// Benchmark de multiplication matricielle\nlet size = 500;\nlet a: Tensor<f32> = Tensor::randn(&[size, size]);\nlet b: Tensor<f32> = Tensor::randn(&[size, size]);\n\nprintln!(\"🏁 Benchmark multiplication matricielle {}x{}...\", size, size);\n\nlet start = Instant::now();\nlet result = a.matmul(&b).expect(\"Matrix multiplication failed\");\nlet duration = start.elapsed();\n\nprintln!(\"✅ Terminé en : {:?}\", duration);\nprintln!(\"📊 Forme du résultat : {:?}\", result.shape());\nprintln!(\"📈 Débit : {:.2} GFLOPS\", \n    (2.0 * size as f64 * size as f64 * size as f64) / (duration.as_secs_f64() * 1e9));",
   "metadata": {}
  },
  {
   "cell_type": "code",
   "execution_count": null,
   "metadata": {},
   "outputs": [],
   "source": "// Créer un tenseur avec des valeurs positives/négatives mélangées\nlet input = Tensor::from_vec(vec![-2.0, -1.0, 0.0, 1.0, 2.0], vec![5]);\nprintln!(\"Entrée : {:?}\", input);\n\n// Note : Les fonctions d'activation sont disponibles via le module nn::activation\nprintln!(\"Les opérations tensorielles RusTorch fonctionnent correctement !\");"
  },
  {
   "cell_type": "markdown",
   "metadata": {},
   "source": [
    "## ⚡ Benchmark de Performance\n",
    "\n",
    "Comparons les performances de différentes opérations :"
   ]
  },
  {
   "cell_type": "code",
   "execution_count": null,
   "metadata": {},
   "outputs": [],
   "source": "// Benchmark de multiplication matricielle\nlet size = 256;\nlet a: Tensor<f32> = Tensor::randn(&[size, size]);\nlet b: Tensor<f32> = Tensor::randn(&[size, size]);\n\nprintln!(\"🏁 Benchmark multiplication matricielle {}x{}...\", size, size);\n\nlet start = Instant::now();\nlet result = a.matmul(&b);\nlet duration = start.elapsed();\n\nprintln!(\"✅ Terminé en : {:?}\", duration);\nprintln!(\"📊 Forme du résultat : {:?}\", result.shape());\nprintln!(\"📈 Débit : {:.2} GFLOPS\", \n    (2.0 * size as f64 * size as f64 * size as f64) / (duration.as_secs_f64() * 1e9));"
  },
  {
   "cell_type": "markdown",
   "metadata": {},
   "source": [
    "## 🎉 Conclusion\n",
    "\n",
    "Vous pouvez maintenant écrire et exécuter du code Rust directement dans Jupyter !\n",
    "\n",
    "**Avantages :**\n",
    "- 🚀 Performance Rust native\n",
    "- 🔧 Accès direct aux bibliothèques\n",
    "- 🎯 Sécurité de type\n",
    "- ⚡ Abstractions à coût zéro\n",
    "- 🖥️ Support d'accélération GPU\n",
    "\n",
    "**Prochaines Étapes :**\n",
    "- Explorer l'accélération GPU avec les backends CUDA/Metal/OpenCL\n",
    "- Construire des architectures de réseaux de neurones plus complexes\n",
    "- Essayer les modèles transformer et optimiseurs avancés\n",
    "\n",
    "Bon codage avec RusTorch ! 🦀⚡"
   ]
  }
 ],
 "metadata": {
  "kernelspec": {
   "display_name": "Rust",
   "language": "rust",
   "name": "rust"
  },
  "language_info": {
   "codemirror_mode": "rust",
   "file_extension": ".rs",
   "mimetype": "text/rust",
   "name": "Rust",
   "pygment_lexer": "rust",
   "version": ""
  }
 },
 "nbformat": 4,
 "nbformat_minor": 4
}