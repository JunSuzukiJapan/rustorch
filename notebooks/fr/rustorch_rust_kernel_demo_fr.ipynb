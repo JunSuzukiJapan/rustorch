{
 "cells": [
  {
   "cell_type": "markdown",
   "metadata": {},
   "source": [
    "# 🦀 Démo RusTorch avec Noyau Rust\n",
    "\n",
    "Ce notebook démontre comment utiliser RusTorch directement en Rust dans Jupyter !\n",
    "\n",
    "## Fonctionnalités :\n",
    "- 🔥 **Performance Rust Native** : Abstractions à coût zéro\n",
    "- 🧮 **Opérations Tensorielles Directes** : Calculs matriciels type-safe\n",
    "- 🧠 **Construction de Réseaux de Neurones** : Deep learning prêt pour la production\n",
    "- ⚡ **Accélération GPU** : Support CUDA/Metal/OpenCL\n",
    "\n",
    "Commençons !"
   ]
  },
  {
   "cell_type": "markdown",
   "metadata": {},
   "source": [
    "## 📦 Configuration des Dépendances\n",
    "\n",
    "D'abord, ajoutons RusTorch et ndarray comme dépendances :"
   ]
  },
  {
   "cell_type": "code",
   "execution_count": null,
   "metadata": {},
   "outputs": [],
   "source": [
    ":dep rustorch = \"0.5.11\"\n",
    ":dep ndarray = \"0.16\""
   ]
  },
  {
   "cell_type": "markdown",
   "metadata": {},
   "source": [
    "## 🎯 Importation des Bibliothèques\n",
    "\n",
    "Importons RusTorch et ndarray avec la macro array :"
   ]
  },
  {
   "cell_type": "code",
   "execution_count": null,
   "metadata": {},
   "outputs": [],
   "source": [
    "use rustorch::*;\n",
    "use ndarray::prelude::*;\n",
    "use ndarray::array;\n",
    "use std::time::Instant;\n",
    "\n",
    "println!(\"✅ RusTorch et ndarray importés avec succès !\");"
   ]
  },
  {
   "cell_type": "markdown",
   "metadata": {},
   "source": [
    "## 🔥 Opérations Tensorielles de Base\n",
    "\n",
    "Créons des tenseurs et effectuons des opérations de base :"
   ]
  },
  {
   "cell_type": "code",
   "execution_count": null,
   "metadata": {},
   "outputs": [],
   "source": [
    "// Créer des tenseurs avec la macro array!\n",
    "let a = Tensor::from_array(array![[1.0, 2.0], [3.0, 4.0]]);\n",
    "let b = Tensor::from_array(array![[5.0, 6.0], [7.0, 8.0]]);\n",
    "\n",
    "println!(\"Tenseur a : {:?}\", a);\n",
    "println!(\"Tenseur b : {:?}\", b);\n",
    "println!(\"Forme de a : {:?}\", a.shape());\n",
    "println!(\"Forme de b : {:?}\", b.shape());"
   ]
  },
  {
   "cell_type": "code",
   "execution_count": null,
   "metadata": {},
   "outputs": [],
   "source": [
    "// Multiplication matricielle\n",
    "let matmul_result = a.matmul(&b);\n",
    "println!(\"Multiplication matricielle a @ b : {:?}\", matmul_result);\n",
    "\n",
    "// Opérations élément par élément\n",
    "let sum = &a + &b;\n",
    "println!(\"Somme élément par élément a + b : {:?}\", sum);\n",
    "\n",
    "let product = &a * &b;\n",
    "println!(\"Produit élément par élément a * b : {:?}\", product);"
   ]
  },
  {
   "cell_type": "markdown",
   "metadata": {},
   "source": "// Créer des tenseurs spéciaux (avec annotations de type explicites)\nlet zeros: Tensor<f32> = Tensor::zeros(&[3, 3]);\nlet ones: Tensor<f32> = Tensor::ones(&[3, 3]);\nlet random: Tensor<f32> = Tensor::randn(&[3, 3]);\n\nprintln!(\"Tenseur zéros: {:?}\", zeros);\nprintln!(\"Tenseur uns: {:?}\", ones);\nprintln!(\"Tenseur aléatoire: {:?}\", random);"
  },
  {
   "cell_type": "code",
   "execution_count": null,
   "metadata": {},
   "outputs": [],
   "source": [
    "// Créer un tenseur avec des valeurs positives/négatives mélangées\n",
    "let input = Tensor::from_array(array![[-2.0, -1.0, 0.0, 1.0, 2.0]]);\n",
    "println!(\"Entrée : {:?}\", input);\n",
    "\n",
    "// Appliquer les fonctions d'activation\n",
    "let relu_result = input.relu();\n",
    "let sigmoid_result = input.sigmoid();\n",
    "let tanh_result = input.tanh();\n",
    "\n",
    "println!(\"ReLU : {:?}\", relu_result);\n",
    "println!(\"Sigmoid : {:?}\", sigmoid_result);\n",
    "println!(\"Tanh : {:?}\", tanh_result);"
   ]
  },
  {
   "cell_type": "markdown",
   "metadata": {},
   "source": [
    "## ⚡ Benchmark de Performance\n",
    "\n",
    "Comparons les performances de différentes opérations :"
   ]
  },
  {
   "cell_type": "code",
   "execution_count": null,
   "metadata": {},
   "outputs": [],
   "source": "// Benchmark de multiplication matricielle\nlet size = 256;\nlet a: Tensor<f32> = Tensor::randn(&[size, size]);\nlet b: Tensor<f32> = Tensor::randn(&[size, size]);\n\nprintln!(\"🏁 Benchmark multiplication matricielle {}x{}...\", size, size);\n\nlet start = Instant::now();\nlet result = a.matmul(&b);\nlet duration = start.elapsed();\n\nprintln!(\"✅ Terminé en : {:?}\", duration);\nprintln!(\"📊 Forme du résultat : {:?}\", result.shape());\nprintln!(\"📈 Débit : {:.2} GFLOPS\", \n    (2.0 * size as f64 * size as f64 * size as f64) / (duration.as_secs_f64() * 1e9));"
  },
  {
   "cell_type": "markdown",
   "metadata": {},
   "source": [
    "## 🎉 Conclusion\n",
    "\n",
    "Vous pouvez maintenant écrire et exécuter du code Rust directement dans Jupyter !\n",
    "\n",
    "**Avantages :**\n",
    "- 🚀 Performance Rust native\n",
    "- 🔧 Accès direct aux bibliothèques\n",
    "- 🎯 Sécurité de type\n",
    "- ⚡ Abstractions à coût zéro\n",
    "- 🖥️ Support d'accélération GPU\n",
    "\n",
    "**Prochaines Étapes :**\n",
    "- Explorer l'accélération GPU avec les backends CUDA/Metal/OpenCL\n",
    "- Construire des architectures de réseaux de neurones plus complexes\n",
    "- Essayer les modèles transformer et optimiseurs avancés\n",
    "\n",
    "Bon codage avec RusTorch ! 🦀⚡"
   ]
  }
 ],
 "metadata": {
  "kernelspec": {
   "display_name": "Rust",
   "language": "rust",
   "name": "rust"
  },
  "language_info": {
   "codemirror_mode": "rust",
   "file_extension": ".rs",
   "mimetype": "text/rust",
   "name": "Rust",
   "pygment_lexer": "rust",
   "version": ""
  }
 },
 "nbformat": 4,
 "nbformat_minor": 4
}