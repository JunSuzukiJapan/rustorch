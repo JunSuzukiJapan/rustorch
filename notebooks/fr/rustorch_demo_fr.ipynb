{
 "cells": [
  {
   "cell_type": "markdown",
   "id": "intro",
   "metadata": {},
   "source": [
    "# Démonstration RusTorch en Français 🚀\n",
    "\n",
    "Bienvenue dans RusTorch ! Ce notebook démontre les capacités principales de notre bibliothèque d'apprentissage profond prête pour la production en Rust avec une API similaire à PyTorch.\n",
    "\n",
    "## Fonctionnalités Démontrées :\n",
    "- 🔥 **Opérations Tensorielles**: Créer, manipuler et calculer avec des tenseurs\n",
    "- 🧮 **Opérations Matricielles**: Algèbre linéaire avec performances optimisées\n",
    "- 🧠 **Couches de Réseaux de Neurones**: Éléments constitutifs pour l'apprentissage profond\n",
    "- ⚡ **Performance**: Vitesse alimentée par Rust avec accélération GPU\n",
    "\n",
    "Commençons !"
   ]
  },
  {
   "cell_type": "code",
   "execution_count": null,
   "id": "imports",
   "metadata": {},
   "outputs": [],
   "source": [
    "# Importer RusTorch et autres bibliothèques requises\n",
    "import rustorch\n",
    "import numpy as np\n",
    "import time\n",
    "\n",
    "print(\"RusTorch importé avec succès !\")\n",
    "print(f\"Opérations disponibles : {dir(rustorch)}\")"
   ]
  },
  {
   "cell_type": "markdown",
   "id": "basic-tensors",
   "metadata": {},
   "source": [
    "## 1. Création de Tenseurs de Base\n",
    "\n",
    "RusTorch fournit plusieurs moyens de créer des tenseurs, similaire à PyTorch mais avec les avantages de performance de Rust."
   ]
  },
  {
   "cell_type": "code",
   "execution_count": null,
   "id": "tensor-creation",
   "metadata": {},
   "outputs": [],
   "source": [
    "# Créer différents types de tenseurs\n",
    "tenseur_zeros = rustorch.zeros([3, 4])\n",
    "tenseur_ones = rustorch.ones([3, 4])\n",
    "tenseur_aleatoire = rustorch.randn([3, 4])\n",
    "tenseur_personnalise = rustorch.PyTensor([1.0, 2.0, 3.0, 4.0, 5.0, 6.0], [2, 3])\n",
    "\n",
    "print(\"Tenseur de zéros :\")\n",
    "print(f\"  Forme : {tenseur_zeros.shape()}\")\n",
    "print(f\"  Données : {tenseur_zeros.data()}\")\n",
    "\n",
    "print(\"\\nTenseur de uns :\")\n",
    "print(f\"  Forme : {tenseur_ones.shape()}\")\n",
    "print(f\"  Données : {tenseur_ones.data()}\")\n",
    "\n",
    "print(\"\\nTenseur aléatoire (distribution normale) :\")\n",
    "print(f\"  Forme : {tenseur_aleatoire.shape()}\")\n",
    "print(f\"  Données : {tenseur_aleatoire.data()}\")\n",
    "\n",
    "print(\"\\nTenseur personnalisé :\")\n",
    "print(f\"  Forme : {tenseur_personnalise.shape()}\")\n",
    "print(f\"  Données : {tenseur_personnalise.data()}\")"
   ]
  },
  {
   "cell_type": "markdown",
   "id": "tensor-ops",
   "metadata": {},
   "source": [
    "## 2. Opérations sur les Tenseurs\n",
    "\n",
    "Effectuer des opérations mathématiques sur les tenseurs avec un backend Rust optimisé."
   ]
  },
  {
   "cell_type": "code",
   "execution_count": null,
   "id": "basic-operations",
   "metadata": {},
   "outputs": [],
   "source": [
    "# Opérations arithmétiques de base\n",
    "a = rustorch.PyTensor([1.0, 2.0, 3.0, 4.0], [2, 2])\n",
    "b = rustorch.PyTensor([5.0, 6.0, 7.0, 8.0], [2, 2])\n",
    "\n",
    "# Addition\n",
    "addition = a.add(b)\n",
    "print(\"Addition de Tenseurs :\")\n",
    "print(f\"  A : {a.data()}\")\n",
    "print(f\"  B : {b.data()}\")\n",
    "print(f\"  A + B : {addition.data()}\")\n",
    "\n",
    "# Multiplication élément par élément\n",
    "multiplication = a.mul(b)\n",
    "print(\"\\nMultiplication Élément par Élément :\")\n",
    "print(f\"  A * B : {multiplication.data()}\")\n",
    "\n",
    "# Multiplication matricielle\n",
    "matmul = a.matmul(b)\n",
    "print(\"\\nMultiplication Matricielle :\")\n",
    "print(f\"  A @ B : {matmul.data()}\")\n",
    "print(f\"  Forme : {matmul.shape()}\")"
   ]
  },
  {
   "cell_type": "markdown",
   "id": "activations",
   "metadata": {},
   "source": [
    "## 3. Fonctions d'Activation\n",
    "\n",
    "Fonctions d'activation essentielles pour réseaux de neurones implémentées efficacement en Rust."
   ]
  },
  {
   "cell_type": "code",
   "execution_count": null,
   "id": "activation-functions",
   "metadata": {},
   "outputs": [],
   "source": [
    "# Créer un tenseur d'entrée avec diverses valeurs\n",
    "valeurs_entree = [-3.0, -1.5, 0.0, 1.5, 3.0]\n",
    "tenseur_entree = rustorch.PyTensor(valeurs_entree, [5])\n",
    "\n",
    "print(f\"Valeurs d'entrée : {valeurs_entree}\")\n",
    "print()\n",
    "\n",
    "# Appliquer différentes fonctions d'activation\n",
    "sortie_relu = tenseur_entree.relu()\n",
    "sortie_sigmoid = tenseur_entree.sigmoid()\n",
    "sortie_tanh = tenseur_entree.tanh()\n",
    "\n",
    "print(\"Fonctions d'Activation :\")\n",
    "print(f\"  ReLU :    {sortie_relu.data()}\")\n",
    "print(f\"  Sigmoid : {sortie_sigmoid.data()}\")\n",
    "print(f\"  Tanh :    {sortie_tanh.data()}\")\n",
    "\n",
    "# Démontrer les propriétés mathématiques\n",
    "print(\"\\nPropriétés Mathématiques :\")\n",
    "print(f\"  ReLU bride les valeurs négatives à zéro\")\n",
    "print(f\"  Sigmoid a une sortie dans la plage 0 à 1\")\n",
    "print(f\"  Tanh a une sortie dans la plage -1 à 1\")"
   ]
  },
  {
   "cell_type": "markdown",
   "id": "neural-network",
   "metadata": {},
   "source": [
    "## 4. Exemple de Réseau de Neurones Simple\n",
    "\n",
    "Construire un réseau de neurones de base en utilisant les opérations tensorielles de RusTorch."
   ]
  },
  {
   "cell_type": "code",
   "execution_count": null,
   "id": "neural-network-demo",
   "metadata": {},
   "outputs": [],
   "source": [
    "# Définir un réseau de neurones simple à 2 couches\n",
    "def passage_avant_simple(donnees_entree, poids1, biais1, poids2, biais2):\n",
    "    \"\"\"\n",
    "    Effectuer un passage avant à travers un réseau de neurones à 2 couches.\n",
    "    \"\"\"\n",
    "    # Couche 1 : Transformation linéaire + activation ReLU\n",
    "    couche1_lineaire = donnees_entree.matmul(poids1).add(biais1)\n",
    "    sortie_couche1 = couche1_lineaire.relu()\n",
    "    \n",
    "    # Couche 2 : Transformation linéaire + activation Sigmoid\n",
    "    couche2_lineaire = sortie_couche1.matmul(poids2).add(biais2)\n",
    "    sortie = couche2_lineaire.sigmoid()\n",
    "    \n",
    "    return sortie, sortie_couche1\n",
    "\n",
    "# Initialiser les paramètres du réseau\n",
    "taille_entree, taille_cachee, taille_sortie = 3, 4, 2\n",
    "\n",
    "# Créer des données d'entrée (taille_lot=2, taille_entree=3)\n",
    "donnees_entree = rustorch.PyTensor([0.5, -0.2, 1.0, -1.0, 0.8, 0.3], [2, 3])\n",
    "\n",
    "# Initialiser poids et biais avec de petites valeurs aléatoires\n",
    "poids1 = rustorch.randn([taille_entree, taille_cachee]).mul(rustorch.PyTensor([0.1], [1]))\n",
    "biais1 = rustorch.zeros([1, taille_cachee])\n",
    "poids2 = rustorch.randn([taille_cachee, taille_sortie]).mul(rustorch.PyTensor([0.1], [1]))\n",
    "biais2 = rustorch.zeros([1, taille_sortie])\n",
    "\n",
    "# Passage avant\n",
    "sortie, cachee = passage_avant_simple(donnees_entree, poids1, biais1, poids2, biais2)\n",
    "\n",
    "print(\"Passage Avant du Réseau de Neurones :\")\n",
    "print(f\"  Forme d'entrée : {donnees_entree.shape()}\")\n",
    "print(f\"  Données d'entrée : {donnees_entree.data()}\")\n",
    "print(f\"  Forme couche cachée : {cachee.shape()}\")\n",
    "print(f\"  Sortie couche cachée : {cachee.data()}\")\n",
    "print(f\"  Forme sortie finale : {sortie.shape()}\")\n",
    "print(f\"  Sortie finale : {sortie.data()}\")\n",
    "print(f\"  (Valeurs de sortie entre 0-1 grâce à l'activation sigmoid)\")"
   ]
  },
  {
   "cell_type": "markdown",
   "id": "performance",
   "metadata": {},
   "source": [
    "## 5. Comparaison de Performance\n",
    "\n",
    "Comparer les performances de RusTorch avec NumPy pour les opérations matricielles."
   ]
  },
  {
   "cell_type": "code",
   "execution_count": null,
   "id": "performance-benchmark",
   "metadata": {},
   "outputs": [],
   "source": [
    "# Benchmark de performance : Multiplication matricielle\n",
    "tailles = [100, 500, 1000]\n",
    "\n",
    "print(\"Comparaison de Performance : RusTorch vs NumPy\")\n",
    "print(\"=\" * 50)\n",
    "\n",
    "for taille in tailles:\n",
    "    print(f\"\\nTaille de matrice : {taille}x{taille}\")\n",
    "    \n",
    "    # Benchmark RusTorch\n",
    "    temps_debut = time.time()\n",
    "    rust_a = rustorch.randn([taille, taille])\n",
    "    rust_b = rustorch.randn([taille, taille])\n",
    "    resultat_rust = rust_a.matmul(rust_b)\n",
    "    temps_rust = time.time() - temps_debut\n",
    "    \n",
    "    # Benchmark NumPy\n",
    "    temps_debut = time.time()\n",
    "    numpy_a = np.random.randn(taille, taille).astype(np.float32)\n",
    "    numpy_b = np.random.randn(taille, taille).astype(np.float32)\n",
    "    resultat_numpy = np.dot(numpy_a, numpy_b)\n",
    "    temps_numpy = time.time() - temps_debut\n",
    "    \n",
    "    # Calculer l'accélération\n",
    "    acceleration = temps_numpy / temps_rust if temps_rust > 0 else float('inf')\n",
    "    \n",
    "    print(f\"  RusTorch : {temps_rust:.4f}s\")\n",
    "    print(f\"  NumPy :    {temps_numpy:.4f}s\")\n",
    "    print(f\"  Accélération : {acceleration:.2f}x {'(RusTorch plus rapide)' if acceleration > 1 else '(NumPy plus rapide)'}\")\n",
    "\n",
    "print(\"\\n\" + \"=\" * 50)\n",
    "print(\"Note : Les performances peuvent varier selon la configuration système et les optimisations disponibles.\")\n",
    "print(\"Les performances de RusTorch s'améliorent considérablement avec l'accélération GPU activée.\")"
   ]
  },
  {
   "cell_type": "markdown",
   "id": "conclusion",
   "metadata": {},
   "source": [
    "## 🎉 Conclusion\n",
    "\n",
    "Cette démonstration a présenté les capacités principales de RusTorch :\n",
    "\n",
    "✅ **Création et Manipulation de Tenseurs** : API facile à utiliser similaire à PyTorch  \n",
    "✅ **Opérations Mathématiques** : Opérations d'algèbre linéaire optimisées  \n",
    "✅ **Éléments Constitutifs de Réseaux de Neurones** : Fonctions d'activation et opérations de couches  \n",
    "✅ **Performance** : Vitesse alimentée par Rust avec accélération GPU potentielle  \n",
    "\n",
    "### Étapes Suivantes :\n",
    "- Explorer l'accélération GPU avec les backends CUDA/Metal/OpenCL\n",
    "- Construire des architectures de réseaux de neurones plus complexes\n",
    "- Essayer les modèles transformer et optimiseurs avancés\n",
    "- Découvrir le support WebGPU pour le ML basé sur navigateur\n",
    "\n",
    "### Ressources :\n",
    "- 📚 [Documentation](https://docs.rs/rustorch)\n",
    "- 🚀 [Dépôt GitHub](https://github.com/JunSuzukiJapan/rustorch)\n",
    "- 📓 [Guide Complet de Configuration Jupyter](../../README_JUPYTER.md)\n",
    "\n",
    "Bon codage avec RusTorch ! 🦀⚡"
   ]
  }
 ],
 "metadata": {
  "kernelspec": {
   "display_name": "Python 3",
   "language": "python",
   "name": "python3"
  },
  "language_info": {
   "codemirror_mode": {
    "name": "ipython",
    "version": 3
   },
   "file_extension": ".py",
   "mimetype": "text/x-python",
   "name": "python",
   "nbconvert_exporter": "python",
   "pygments_lexer": "ipython3",
   "version": "3.9.0"
  }
 },
 "nbformat": 4,
 "nbformat_minor": 5
}