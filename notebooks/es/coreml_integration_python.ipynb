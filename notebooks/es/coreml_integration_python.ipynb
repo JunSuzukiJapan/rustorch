{
 "cells": [
  {
   "cell_type": "markdown",
   "metadata": {},
   "source": [
    "# Integración CoreML de RusTorch - Enlaces Python\n",
    "\n",
    "Este notebook demuestra cómo usar la funcionalidad CoreML de RusTorch a través de enlaces Python."
   ]
  },
  {
   "cell_type": "markdown",
   "metadata": {},
   "source": [
    "## Configuración e Importaciones"
   ]
  },
  {
   "cell_type": "code",
   "execution_count": null,
   "metadata": {},
   "outputs": [],
   "source": [
    "# Importar enlaces Python de RusTorch\n",
    "try:\n",
    "    import rustorch\n",
    "    print(f\"✅ Versión de RusTorch: {rustorch.__version__}\")\n",
    "    print(f\"📝 Descripción: {rustorch.__description__}\")\n",
    "    print(f\"👥 Autor: {rustorch.__author__}\")\n",
    "except ImportError as e:\n",
    "    print(f\"❌ Error al importar RusTorch: {e}\")\n",
    "    print(\"Por favor, construya con maturin develop\")\n",
    "    exit(1)\n",
    "\n",
    "import numpy as np\n",
    "import platform\n",
    "\n",
    "print(f\"🖥️ Plataforma: {platform.system()} {platform.release()}\")\n",
    "print(f\"🐍 Versión de Python: {platform.python_version()}\")"
   ]
  },
  {
   "cell_type": "markdown",
   "metadata": {},
   "source": [
    "## Verificar Disponibilidad de CoreML"
   ]
  },
  {
   "cell_type": "code",
   "execution_count": null,
   "metadata": {},
   "outputs": [],
   "source": [
    "# Verificar funcionalidad CoreML\n",
    "try:\n",
    "    # Verificar si CoreML está disponible\n",
    "    coreml_available = rustorch.is_coreml_available()\n",
    "    print(f\"🍎 CoreML disponible: {coreml_available}\")\n",
    "    \n",
    "    if coreml_available:\n",
    "        print(\"🎉 ¡CoreML está disponible!\")\n",
    "        \n",
    "        # Obtener información del dispositivo\n",
    "        device_info = rustorch.get_coreml_device_info()\n",
    "        print(\"📱 Información del dispositivo CoreML:\")\n",
    "        print(device_info)\n",
    "    else:\n",
    "        print(\"⚠️ CoreML no está disponible\")\n",
    "        if platform.system() != \"Darwin\":\n",
    "            print(\"CoreML solo está disponible en macOS\")\n",
    "        else:\n",
    "            print(\"Es posible que las características de CoreML no estén habilitadas\")\n",
    "            \n",
    "except AttributeError:\n",
    "    print(\"❌ Funciones CoreML no encontradas\")\n",
    "    print(\"Puede que no esté construido con características CoreML\")\n",
    "    coreml_available = False\n",
    "except Exception as e:\n",
    "    print(f\"❌ Error al verificar CoreML: {e}\")\n",
    "    coreml_available = False"
   ]
  },
  {
   "cell_type": "markdown",
   "metadata": {},
   "source": [
    "## Creación de Dispositivo CoreML y Operaciones"
   ]
  },
  {
   "cell_type": "code",
   "execution_count": null,
   "metadata": {},
   "outputs": [],
   "source": [
    "if coreml_available:\n",
    "    try:\n",
    "        # Crear dispositivo CoreML\n",
    "        device = rustorch.CoreMLDevice(device_id=0)\n",
    "        print(f\"🖥️ Dispositivo CoreML creado: {device}\")\n",
    "        \n",
    "        # Obtener información del dispositivo\n",
    "        print(f\"🆔 ID del dispositivo: {device.device_id()}\")\n",
    "        print(f\"✅ Disponible: {device.is_available()}\")\n",
    "        print(f\"💾 Límite de memoria: {device.memory_limit()} bytes\")\n",
    "        print(f\"🧮 Límite de unidades de cómputo: {device.compute_units_limit()}\")\n",
    "        print(f\"📚 Tamaño de caché del modelo: {device.model_cache_size()}\")\n",
    "        \n",
    "        # Limpieza de caché\n",
    "        device.cleanup_cache()\n",
    "        print(\"🧹 Caché limpiado\")\n",
    "        \n",
    "    except Exception as e:\n",
    "        print(f\"❌ Error en operación del dispositivo CoreML: {e}\")\n",
    "else:\n",
    "    print(\"⚠️ Omitiendo operaciones del dispositivo ya que CoreML no está disponible\")"
   ]
  },
  {
   "cell_type": "markdown",
   "metadata": {},
   "source": [
    "## Configuración del Backend CoreML"
   ]
  },
  {
   "cell_type": "code",
   "execution_count": null,
   "metadata": {},
   "outputs": [],
   "source": [
    "if coreml_available:\n",
    "    try:\n",
    "        # Crear configuración del backend CoreML\n",
    "        config = rustorch.CoreMLBackendConfig(\n",
    "            enable_caching=True,\n",
    "            max_cache_size=200,\n",
    "            enable_profiling=True,\n",
    "            auto_fallback=True\n",
    "        )\n",
    "        print(f\"⚙️ Configuración del backend: {config}\")\n",
    "        \n",
    "        # Verificar y modificar valores de configuración\n",
    "        print(f\"📊 Habilitar caché: {config.enable_caching}\")\n",
    "        print(f\"🗂️ Tamaño máximo de caché: {config.max_cache_size}\")\n",
    "        print(f\"📈 Habilitar perfilado: {config.enable_profiling}\")\n",
    "        print(f\"🔄 Respaldo automático: {config.auto_fallback}\")\n",
    "        \n",
    "        # Modificar configuración\n",
    "        config.enable_profiling = False\n",
    "        config.max_cache_size = 150\n",
    "        print(f\"\\n🔧 Configuración actualizada: {config}\")\n",
    "        \n",
    "        # Crear backend CoreML\n",
    "        backend = rustorch.CoreMLBackend(config)\n",
    "        print(f\"🚀 Backend CoreML: {backend}\")\n",
    "        print(f\"✅ Backend disponible: {backend.is_available()}\")\n",
    "        \n",
    "        # Obtener estadísticas del backend\n",
    "        stats = backend.get_stats()\n",
    "        print(f\"📊 Estadísticas del backend: {stats}\")\n",
    "        print(f\"   Operaciones totales: {stats.total_operations}\")\n",
    "        print(f\"   Aciertos de caché: {stats.cache_hits}\")\n",
    "        print(f\"   Fallos de caché: {stats.cache_misses}\")\n",
    "        print(f\"   Operaciones de respaldo: {stats.fallback_operations}\")\n",
    "        print(f\"   Tasa de aciertos de caché: {stats.cache_hit_rate():.2%}\")\n",
    "        print(f\"   Tasa de respaldo: {stats.fallback_rate():.2%}\")\n",
    "        print(f\"   Tiempo promedio de ejecución: {stats.average_execution_time_ms:.2f}ms\")\n",
    "        \n",
    "        # Limpieza de caché\n",
    "        backend.cleanup_cache()\n",
    "        print(\"\\n🧹 Caché del backend limpiado\")\n",
    "        \n",
    "    except Exception as e:\n",
    "        print(f\"❌ Error en operación del backend CoreML: {e}\")\n",
    "else:\n",
    "    print(\"⚠️ Omitiendo operaciones del backend ya que CoreML no está disponible\")"
   ]
  },
  {
   "cell_type": "markdown",
   "metadata": {},
   "source": [
    "## Operaciones Básicas de Tensores (CPU)\n",
    "\n",
    "Para comparar con CoreML, primero realicemos operaciones básicas en CPU."
   ]
  },
  {
   "cell_type": "code",
   "execution_count": null,
   "metadata": {},
   "outputs": [],
   "source": [
    "try:\n",
    "    # Creación y operaciones básicas de tensores\n",
    "    print(\"🧮 Operaciones básicas de tensores (CPU)\")\n",
    "    \n",
    "    # Crear tensores desde arrays NumPy (interfaz simplificada)\n",
    "    data_a = np.random.randn(2, 3).astype(np.float32)\n",
    "    data_b = np.random.randn(3, 2).astype(np.float32)\n",
    "    \n",
    "    print(f\"📐 Forma de la Matriz A: {data_a.shape}\")\n",
    "    print(f\"📐 Forma de la Matriz B: {data_b.shape}\")\n",
    "    \n",
    "    # Multiplicación de matrices con NumPy (para comparación)\n",
    "    numpy_result = np.matmul(data_a, data_b)\n",
    "    print(f\"✅ Forma del resultado matmul NumPy: {numpy_result.shape}\")\n",
    "    print(f\"📊 Resultado (primeros elementos): {numpy_result.flatten()[:4]}\")\n",
    "    \n",
    "    print(\"\\n🚀 Operaciones CPU completadas\")\n",
    "    \n",
    "except Exception as e:\n",
    "    print(f\"❌ Error en operación de tensor: {e}\")"
   ]
  },
  {
   "cell_type": "markdown",
   "metadata": {},
   "source": [
    "## Simulación de Comparación de Rendimiento"
   ]
  },
  {
   "cell_type": "code",
   "execution_count": null,
   "metadata": {},
   "outputs": [],
   "source": [
    "import time\n",
    "\n",
    "def benchmark_matrix_operations():\n",
    "    \"\"\"Comparar rendimiento con diferentes tamaños de matriz\"\"\"\n",
    "    \n",
    "    sizes = [(64, 64), (128, 128), (256, 256), (512, 512)]\n",
    "    \n",
    "    print(\"🏁 Comparación de rendimiento:\")\n",
    "    print(\"Tamaño\\t\\tTiempo CPU (ms)\\tCoreML Esperado (ms)\")\n",
    "    print(\"-\" * 58)\n",
    "    \n",
    "    for size in sizes:\n",
    "        # Medir tiempo de ejecución CPU\n",
    "        a = np.random.randn(*size).astype(np.float32)\n",
    "        b = np.random.randn(size[1], size[0]).astype(np.float32)\n",
    "        \n",
    "        start_time = time.time()\n",
    "        result = np.matmul(a, b)\n",
    "        cpu_time = (time.time() - start_time) * 1000\n",
    "        \n",
    "        # Tiempo CoreML esperado (hipotético)\n",
    "        # En implementación real, usar mediciones reales del backend CoreML\n",
    "        expected_coreml_time = cpu_time * 0.6  # Suposición: CoreML es 40% más rápido\n",
    "        \n",
    "        print(f\"{size[0]}x{size[1]}\\t\\t{cpu_time:.2f}\\t\\t{expected_coreml_time:.2f}\")\n",
    "\n",
    "benchmark_matrix_operations()\n",
    "\n",
    "print(\"\\n📝 Nota: Los tiempos de CoreML son hipotéticos. Los valores reales dependen de la implementación específica.\")"
   ]
  },
  {
   "cell_type": "markdown",
   "metadata": {},
   "source": [
    "## Simulación de Selección de Dispositivo"
   ]
  },
  {
   "cell_type": "code",
   "execution_count": null,
   "metadata": {},
   "outputs": [],
   "source": [
    "def simulate_device_selection():\n",
    "    \"\"\"Simular selección inteligente de dispositivo\"\"\"\n",
    "    \n",
    "    operations = [\n",
    "        (\"Multiplicación de matriz pequeña\", (16, 16), \"CPU\"),\n",
    "        (\"Multiplicación de matriz mediana\", (128, 128), \"Metal GPU\"),\n",
    "        (\"Multiplicación de matriz grande\", (512, 512), \"CoreML\" if coreml_available else \"Metal GPU\"),\n",
    "        (\"Función de activación\", (32, 64, 128, 128), \"Metal GPU\"),\n",
    "        (\"Convolución pequeña\", (1, 3, 32, 32), \"CPU\"),\n",
    "        (\"Convolución grande\", (16, 64, 224, 224), \"CoreML\" if coreml_available else \"Metal GPU\"),\n",
    "        (\"Operaciones de números complejos\", (128, 128), \"Metal GPU\"),  # CoreML no soportado\n",
    "        (\"Distribución estadística\", (1000,), \"CPU\"),  # CoreML no soportado\n",
    "    ]\n",
    "    \n",
    "    print(\"🎯 Simulación de selección inteligente de dispositivo:\")\n",
    "    print(\"Operación\\t\\t\\tForma del Tensor\\t\\tDispositivo Seleccionado\")\n",
    "    print(\"-\" * 78)\n",
    "    \n",
    "    for name, shape, device in operations:\n",
    "        shape_str = \"x\".join(map(str, shape))\n",
    "        print(f\"{name:<31}\\t{shape_str:<15}\\t{device}\")\n",
    "    \n",
    "    print(\"\\n📝 Lógica de selección:\")\n",
    "    print(\"  • Operaciones pequeñas: CPU (evitar sobrecarga)\")\n",
    "    print(\"  • Operaciones medianas: Metal GPU (equilibrado)\")\n",
    "    print(\"  • Operaciones grandes: CoreML (optimizado)\")\n",
    "    print(\"  • Operaciones no soportadas: respaldo GPU/CPU\")\n",
    "\n",
    "simulate_device_selection()"
   ]
  },
  {
   "cell_type": "markdown",
   "metadata": {},
   "source": [
    "## Ejemplo Práctico: Capa Simple de Red Neuronal"
   ]
  },
  {
   "cell_type": "code",
   "execution_count": null,
   "metadata": {},
   "outputs": [],
   "source": [
    "def simulate_neural_network_layer():\n",
    "    \"\"\"Simular capa de red neuronal\"\"\"\n",
    "    \n",
    "    print(\"🧠 Simulación de capa de red neuronal:\")\n",
    "    \n",
    "    # Tamaño del lote y configuración de la capa\n",
    "    batch_size = 32\n",
    "    input_features = 784  # 28x28 MNIST\n",
    "    hidden_features = 256\n",
    "    output_features = 10  # 10 clases\n",
    "    \n",
    "    print(f\"📊 Tamaño del lote: {batch_size}\")\n",
    "    print(f\"🔢 Características de entrada: {input_features}\")\n",
    "    print(f\"🧮 Características ocultas: {hidden_features}\")\n",
    "    print(f\"🎯 Características de salida: {output_features}\")\n",
    "    \n",
    "    # Simulación de pase hacia adelante\n",
    "    steps = [\n",
    "        (\"Entrada → Oculta\", f\"({batch_size}, {input_features}) @ ({input_features}, {hidden_features})\", \"CoreML\" if coreml_available else \"Metal\"),\n",
    "        (\"Activación ReLU\", f\"({batch_size}, {hidden_features})\", \"Metal\"),\n",
    "        (\"Oculta → Salida\", f\"({batch_size}, {hidden_features}) @ ({hidden_features}, {output_features})\", \"CoreML\" if coreml_available else \"Metal\"),\n",
    "        (\"Softmax\", f\"({batch_size}, {output_features})\", \"CPU\"),\n",
    "    ]\n",
    "    \n",
    "    print(\"\\n🔄 Simulación de pase hacia adelante:\")\n",
    "    total_time = 0\n",
    "    \n",
    "    for step, shape, device in steps:\n",
    "        # Tiempo de ejecución virtual (ms)\n",
    "        if device == \"CoreML\":\n",
    "            time_ms = np.random.uniform(0.5, 2.0)\n",
    "        elif device == \"Metal\":\n",
    "            time_ms = np.random.uniform(1.0, 3.0)\n",
    "        else:  # CPU\n",
    "            time_ms = np.random.uniform(0.2, 1.0)\n",
    "        \n",
    "        total_time += time_ms\n",
    "        print(f\"  {step:<15} {shape:<30} {device:<8} {time_ms:.2f}ms\")\n",
    "    \n",
    "    print(f\"\\n⏱️ Tiempo total del pase hacia adelante: {total_time:.2f}ms\")\n",
    "    print(f\"🚀 Rendimiento estimado: {1000/total_time:.0f} lotes/segundo\")\n",
    "\n",
    "simulate_neural_network_layer()"
   ]
  },
  {
   "cell_type": "markdown",
   "metadata": {},
   "source": [
    "## Resumen y Próximos Pasos"
   ]
  },
  {
   "cell_type": "code",
   "execution_count": null,
   "metadata": {},
   "outputs": [],
   "source": [
    "print(\"📋 Resumen de Integración CoreML de RusTorch:\")\n",
    "print()\n",
    "print(\"✅ Elementos completados:\")\n",
    "print(\"  • Configuración del entorno Jupyter\")\n",
    "print(\"  • Creación de kernel Rust y enlaces Python\")\n",
    "print(\"  • Verificación de disponibilidad CoreML\")\n",
    "print(\"  • Gestión de dispositivos y configuración\")\n",
    "print(\"  • Estadísticas y perfilado del backend\")\n",
    "print(\"  • Selección inteligente de dispositivo\")\n",
    "print()\n",
    "print(\"🚧 Desarrollo futuro:\")\n",
    "print(\"  • Implementación real de operaciones CoreML\")\n",
    "print(\"  • Evaluación comparativa de rendimiento\")\n",
    "print(\"  • Más funciones de activación y tipos de capas\")\n",
    "print(\"  • Mejoras en manejo de errores\")\n",
    "print(\"  • Optimización de memoria\")\n",
    "print()\n",
    "print(\"🎯 Próximos pasos recomendados:\")\n",
    "print(\"  1. Cargar y probar modelos CoreML reales\")\n",
    "print(\"  2. Comparar rendimiento Metal y CoreML\")\n",
    "print(\"  3. Probar con flujos de trabajo de aprendizaje profundo reales\")\n",
    "print(\"  4. Evaluar en entorno de producción\")\n",
    "\n",
    "if coreml_available:\n",
    "    print(\"\\n🎉 ¡Felicidades! CoreML está disponible y todas las características pueden ser probadas.\")\n",
    "else:\n",
    "    print(\"\\n⚠️ CoreML no está disponible, pero las características básicas están funcionando.\")\n",
    "    print(\"   Recomendamos construir con características CoreML habilitadas en macOS.\")"
   ]
  }
 ],
 "metadata": {
  "kernelspec": {
   "display_name": "Python 3",
   "language": "python",
   "name": "python3"
  },
  "language_info": {
   "codemirror_mode": {
    "name": "ipython",
    "version": 3
   },
   "file_extension": ".py",
   "mimetype": "text/x-python",
   "name": "python",
   "nbconvert_exporter": "python",
   "pygments_lexer": "ipython3",
   "version": "3.8.5"
  }
 },
 "nbformat": 4,
 "nbformat_minor": 4
}