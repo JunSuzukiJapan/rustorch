{
 "cells": [
  {
   "cell_type": "markdown",
   "id": "intro",
   "metadata": {},
   "source": [
    "# Demo RusTorch en Español 🚀\n",
    "\n",
    "¡Bienvenidos a RusTorch! Este notebook demuestra las capacidades principales de nuestra biblioteca de deep learning lista para producción en Rust con API similar a PyTorch.\n",
    "\n",
    "## Características Demostradas:\n",
    "- 🔥 **Operaciones Tensoriales**: Crear, manipular y calcular con tensores\n",
    "- 🧮 **Operaciones Matriciales**: Álgebra lineal con rendimiento optimizado\n",
    "- 🧠 **Capas de Red Neuronal**: Bloques de construcción para deep learning\n",
    "- ⚡ **Rendimiento**: Velocidad impulsada por Rust con aceleración GPU\n",
    "\n",
    "¡Empecemos!"
   ]
  },
  {
   "cell_type": "code",
   "execution_count": null,
   "id": "imports",
   "metadata": {},
   "outputs": [],
   "source": [
    "# Importar RusTorch y otras bibliotecas requeridas\n",
    "import rustorch\n",
    "import numpy as np\n",
    "import time\n",
    "\n",
    "print(\"¡RusTorch importado exitosamente!\")\n",
    "print(f\"Operaciones disponibles: {dir(rustorch)}\")"
   ]
  },
  {
   "cell_type": "markdown",
   "id": "basic-tensors",
   "metadata": {},
   "source": [
    "## 1. Creación Básica de Tensores\n",
    "\n",
    "RusTorch proporciona múltiples formas de crear tensores, similar a PyTorch pero con los beneficios de rendimiento de Rust."
   ]
  },
  {
   "cell_type": "code",
   "execution_count": null,
   "id": "tensor-creation",
   "metadata": {},
   "outputs": [],
   "source": [
    "# Crear diferentes tipos de tensores\n",
    "tensor_ceros = rustorch.zeros([3, 4])\n",
    "tensor_unos = rustorch.ones([3, 4])\n",
    "tensor_aleatorio = rustorch.randn([3, 4])\n",
    "tensor_personalizado = rustorch.PyTensor([1.0, 2.0, 3.0, 4.0, 5.0, 6.0], [2, 3])\n",
    "\n",
    "print(\"Tensor de ceros:\")\n",
    "print(f\"  Forma: {tensor_ceros.shape()}\")\n",
    "print(f\"  Datos: {tensor_ceros.data()}\")\n",
    "\n",
    "print(\"\\nTensor de unos:\")\n",
    "print(f\"  Forma: {tensor_unos.shape()}\")\n",
    "print(f\"  Datos: {tensor_unos.data()}\")\n",
    "\n",
    "print(\"\\nTensor aleatorio (distribución normal):\")\n",
    "print(f\"  Forma: {tensor_aleatorio.shape()}\")\n",
    "print(f\"  Datos: {tensor_aleatorio.data()}\")\n",
    "\n",
    "print(\"\\nTensor personalizado:\")\n",
    "print(f\"  Forma: {tensor_personalizado.shape()}\")\n",
    "print(f\"  Datos: {tensor_personalizado.data()}\")"
   ]
  },
  {
   "cell_type": "markdown",
   "id": "tensor-ops",
   "metadata": {},
   "source": [
    "## 2. Operaciones sobre Tensores\n",
    "\n",
    "Realizar operaciones matemáticas en tensores con backend Rust optimizado."
   ]
  },
  {
   "cell_type": "code",
   "execution_count": null,
   "id": "basic-operations",
   "metadata": {},
   "outputs": [],
   "source": [
    "# Operaciones aritméticas básicas\n",
    "a = rustorch.PyTensor([1.0, 2.0, 3.0, 4.0], [2, 2])\n",
    "b = rustorch.PyTensor([5.0, 6.0, 7.0, 8.0], [2, 2])\n",
    "\n",
    "# Suma\n",
    "suma = a.add(b)\n",
    "print(\"Suma de Tensores:\")\n",
    "print(f\"  A: {a.data()}\")\n",
    "print(f\"  B: {b.data()}\")\n",
    "print(f\"  A + B: {suma.data()}\")\n",
    "\n",
    "# Multiplicación elemento por elemento\n",
    "multiplicacion = a.mul(b)\n",
    "print(\"\\nMultiplicación Elemento por Elemento:\")\n",
    "print(f\"  A * B: {multiplicacion.data()}\")\n",
    "\n",
    "# Multiplicación matricial\n",
    "matmul = a.matmul(b)\n",
    "print(\"\\nMultiplicación Matricial:\")\n",
    "print(f\"  A @ B: {matmul.data()}\")\n",
    "print(f\"  Forma: {matmul.shape()}\")"
   ]
  },
  {
   "cell_type": "markdown",
   "id": "activations",
   "metadata": {},
   "source": [
    "## 3. Funciones de Activación\n",
    "\n",
    "Funciones de activación esenciales para redes neuronales implementadas eficientemente en Rust."
   ]
  },
  {
   "cell_type": "code",
   "execution_count": null,
   "id": "activation-functions",
   "metadata": {},
   "outputs": [],
   "source": [
    "# Crear tensor de entrada con varios valores\n",
    "valores_entrada = [-3.0, -1.5, 0.0, 1.5, 3.0]\n",
    "tensor_entrada = rustorch.PyTensor(valores_entrada, [5])\n",
    "\n",
    "print(f\"Valores de entrada: {valores_entrada}\")\n",
    "print()\n",
    "\n",
    "# Aplicar diferentes funciones de activación\n",
    "salida_relu = tensor_entrada.relu()\n",
    "salida_sigmoid = tensor_entrada.sigmoid()\n",
    "salida_tanh = tensor_entrada.tanh()\n",
    "\n",
    "print(\"Funciones de Activación:\")\n",
    "print(f\"  ReLU:    {salida_relu.data()}\")\n",
    "print(f\"  Sigmoid: {salida_sigmoid.data()}\")\n",
    "print(f\"  Tanh:    {salida_tanh.data()}\")\n",
    "\n",
    "# Demostrar las propiedades matemáticas\n",
    "print(\"\\nPropiedades Matemáticas:\")\n",
    "print(f\"  ReLU recorta valores negativos a cero\")\n",
    "print(f\"  Sigmoid tiene salidas en rango de 0 a 1\")\n",
    "print(f\"  Tanh tiene salidas en rango de -1 a 1\")"
   ]
  },
  {
   "cell_type": "markdown",
   "id": "neural-network",
   "metadata": {},
   "source": [
    "## 4. Ejemplo de Red Neuronal Simple\n",
    "\n",
    "Construir una red neuronal básica usando las operaciones tensoriales de RusTorch."
   ]
  },
  {
   "cell_type": "code",
   "execution_count": null,
   "id": "neural-network-demo",
   "metadata": {},
   "outputs": [],
   "source": [
    "# Definir una red neuronal simple de 2 capas\n",
    "def paso_hacia_adelante_simple(datos_entrada, pesos1, sesgo1, pesos2, sesgo2):\n",
    "    \"\"\"\n",
    "    Realizar un paso hacia adelante a través de una red neuronal de 2 capas.\n",
    "    \"\"\"\n",
    "    # Capa 1: Transformación lineal + activación ReLU\n",
    "    capa1_lineal = datos_entrada.matmul(pesos1).add(sesgo1)\n",
    "    salida_capa1 = capa1_lineal.relu()\n",
    "    \n",
    "    # Capa 2: Transformación lineal + activación Sigmoid\n",
    "    capa2_lineal = salida_capa1.matmul(pesos2).add(sesgo2)\n",
    "    salida = capa2_lineal.sigmoid()\n",
    "    \n",
    "    return salida, salida_capa1\n",
    "\n",
    "# Inicializar parámetros de la red\n",
    "tamano_entrada, tamano_oculto, tamano_salida = 3, 4, 2\n",
    "\n",
    "# Crear datos de entrada (tamano_lote=2, tamano_entrada=3)\n",
    "datos_entrada = rustorch.PyTensor([0.5, -0.2, 1.0, -1.0, 0.8, 0.3], [2, 3])\n",
    "\n",
    "# Inicializar pesos y sesgos con valores aleatorios pequeños\n",
    "pesos1 = rustorch.randn([tamano_entrada, tamano_oculto]).mul(rustorch.PyTensor([0.1], [1]))\n",
    "sesgo1 = rustorch.zeros([1, tamano_oculto])\n",
    "pesos2 = rustorch.randn([tamano_oculto, tamano_salida]).mul(rustorch.PyTensor([0.1], [1]))\n",
    "sesgo2 = rustorch.zeros([1, tamano_salida])\n",
    "\n",
    "# Paso hacia adelante\n",
    "salida, oculta = paso_hacia_adelante_simple(datos_entrada, pesos1, sesgo1, pesos2, sesgo2)\n",
    "\n",
    "print(\"Paso Hacia Adelante de la Red Neuronal:\")\n",
    "print(f\"  Forma entrada: {datos_entrada.shape()}\")\n",
    "print(f\"  Datos entrada: {datos_entrada.data()}\")\n",
    "print(f\"  Forma capa oculta: {oculta.shape()}\")\n",
    "print(f\"  Salida capa oculta: {oculta.data()}\")\n",
    "print(f\"  Forma salida final: {salida.shape()}\")\n",
    "print(f\"  Salida final: {salida.data()}\")\n",
    "print(f\"  (Valores salida entre 0-1 debido a activación sigmoid)\")"
   ]
  },
  {
   "cell_type": "markdown",
   "id": "performance",
   "metadata": {},
   "source": [
    "## 5. Comparación de Rendimiento\n",
    "\n",
    "Comparar el rendimiento de RusTorch con NumPy para operaciones matriciales."
   ]
  },
  {
   "cell_type": "code",
   "execution_count": null,
   "id": "performance-benchmark",
   "metadata": {},
   "outputs": [],
   "source": [
    "# Benchmark de rendimiento: Multiplicación matricial\n",
    "tamanos = [100, 500, 1000]\n",
    "\n",
    "print(\"Comparación de Rendimiento: RusTorch vs NumPy\")\n",
    "print(\"=\" * 50)\n",
    "\n",
    "for tamano in tamanos:\n",
    "    print(f\"\\nTamaño matriz: {tamano}x{tamano}\")\n",
    "    \n",
    "    # Benchmark RusTorch\n",
    "    tiempo_inicio = time.time()\n",
    "    rust_a = rustorch.randn([tamano, tamano])\n",
    "    rust_b = rustorch.randn([tamano, tamano])\n",
    "    resultado_rust = rust_a.matmul(rust_b)\n",
    "    tiempo_rust = time.time() - tiempo_inicio\n",
    "    \n",
    "    # Benchmark NumPy\n",
    "    tiempo_inicio = time.time()\n",
    "    numpy_a = np.random.randn(tamano, tamano).astype(np.float32)\n",
    "    numpy_b = np.random.randn(tamano, tamano).astype(np.float32)\n",
    "    resultado_numpy = np.dot(numpy_a, numpy_b)\n",
    "    tiempo_numpy = time.time() - tiempo_inicio\n",
    "    \n",
    "    # Calcular aceleración\n",
    "    aceleracion = tiempo_numpy / tiempo_rust if tiempo_rust > 0 else float('inf')\n",
    "    \n",
    "    print(f\"  RusTorch: {tiempo_rust:.4f}s\")\n",
    "    print(f\"  NumPy:    {tiempo_numpy:.4f}s\")\n",
    "    print(f\"  Aceleración: {aceleracion:.2f}x {'(RusTorch más rápido)' if aceleracion > 1 else '(NumPy más rápido)'}\")\n",
    "\n",
    "print(\"\\n\" + \"=\" * 50)\n",
    "print(\"Nota: El rendimiento puede variar según la configuración del sistema y optimizaciones disponibles.\")\n",
    "print(\"El rendimiento de RusTorch mejora significativamente con aceleración GPU habilitada.\")"
   ]
  },
  {
   "cell_type": "markdown",
   "id": "conclusion",
   "metadata": {},
   "source": [
    "## 🎉 Conclusión\n",
    "\n",
    "Esta demostración mostró las capacidades principales de RusTorch:\n",
    "\n",
    "✅ **Creación y Manipulación de Tensores**: API fácil de usar similar a PyTorch  \n",
    "✅ **Operaciones Matemáticas**: Operaciones de álgebra lineal optimizadas  \n",
    "✅ **Bloques Constructivos Red Neuronal**: Funciones de activación y operaciones de capa  \n",
    "✅ **Rendimiento**: Velocidad impulsada por Rust con aceleración GPU potencial  \n",
    "\n",
    "### Próximos Pasos:\n",
    "- Explorar aceleración GPU con backends CUDA/Metal/OpenCL\n",
    "- Construir arquitecturas de redes neuronales más complejas\n",
    "- Probar modelos transformer y optimizadores avanzados\n",
    "- Descubrir soporte WebGPU para ML basado en navegador\n",
    "\n",
    "### Recursos:\n",
    "- 📚 [Documentación](https://docs.rs/rustorch)\n",
    "- 🚀 [Repositorio GitHub](https://github.com/JunSuzukiJapan/rustorch)\n",
    "- 📓 [Guía Completa Configuración Jupyter](../../README_JUPYTER.md)\n",
    "\n",
    "¡Feliz programación con RusTorch! 🦀⚡"
   ]
  }
 ],
 "metadata": {
  "kernelspec": {
   "display_name": "Python 3",
   "language": "python",
   "name": "python3"
  },
  "language_info": {
   "codemirror_mode": {
    "name": "ipython",
    "version": 3
   },
   "file_extension": ".py",
   "mimetype": "text/x-python",
   "name": "python",
   "nbconvert_exporter": "python",
   "pygments_lexer": "ipython3",
   "version": "3.9.0"
  }
 },
 "nbformat": 4,
 "nbformat_minor": 5
}