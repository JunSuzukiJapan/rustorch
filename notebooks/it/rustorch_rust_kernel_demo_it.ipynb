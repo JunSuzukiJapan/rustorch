{
 "cells": [
  {
   "cell_type": "markdown",
   "metadata": {},
   "source": [
    "# 🦀 Demo RusTorch con Kernel Rust\n",
    "\n",
    "Questo notebook dimostra come usare RusTorch direttamente in Rust all'interno di Jupyter!\n",
    "\n",
    "## Caratteristiche:\n",
    "- 🔥 **Prestazioni Rust Native**: Astrazioni a costo zero\n",
    "- 🧮 **Operazioni Tensoriali Dirette**: Calcoli matriciali type-safe\n",
    "- 🧠 **Costruzione Reti Neurali**: Deep learning pronto per produzione\n",
    "- ⚡ **Accelerazione GPU**: Supporto CUDA/Metal/OpenCL\n",
    "\n",
    "Iniziamo!"
   ]
  },
  {
   "cell_type": "markdown",
   "metadata": {},
   "source": [
    "## 📦 Configurazione Dipendenze\n",
    "\n",
    "Prima, aggiungiamo RusTorch e ndarray come dipendenze:"
   ]
  },
  {
   "cell_type": "code",
   "execution_count": null,
   "metadata": {},
   "outputs": [],
   "source": ":dep rustorch = \"0.6.23\"\n:dep ndarray = \"0.16\"\n\n// Configurazione per evcxr\nextern crate rustorch;\nextern crate ndarray;"
  },
  {
   "cell_type": "markdown",
   "metadata": {},
   "source": [
    "## 🎯 Importazione Librerie\n",
    "\n",
    "Importiamo RusTorch e ndarray con la macro array:"
   ]
  },
  {
   "cell_type": "code",
   "execution_count": null,
   "metadata": {},
   "outputs": [],
   "source": "use rustorch::prelude::*;\nuse std::time::Instant;\n\nprintln!(\"✅ RusTorch importato con successo!\");"
  },
  {
   "cell_type": "markdown",
   "metadata": {},
   "source": [
    "## 🔥 Operazioni Tensoriali di Base\n",
    "\n",
    "Creiamo tensori ed eseguiamo operazioni di base:"
   ]
  },
  {
   "cell_type": "code",
   "execution_count": null,
   "metadata": {},
   "outputs": [],
   "source": [
    "// Creare tensori usando la macro array!\n",
    "let a = Tensor::from_array(array![[1.0, 2.0], [3.0, 4.0]]);\n",
    "let b = Tensor::from_array(array![[5.0, 6.0], [7.0, 8.0]]);\n",
    "\n",
    "println!(\"Tensore a: {:?}\", a);\n",
    "println!(\"Tensore b: {:?}\", b);\n",
    "println!(\"Forma di a: {:?}\", a.shape());\n",
    "println!(\"Forma di b: {:?}\", b.shape());"
   ]
  },
  {
   "cell_type": "code",
   "execution_count": null,
   "metadata": {},
   "outputs": [],
   "source": [
    "// Moltiplicazione matriciale\n",
    "let matmul_result = a.matmul(&b);\n",
    "println!(\"Moltiplicazione matriciale a @ b: {:?}\", matmul_result);\n",
    "\n",
    "// Operazioni elemento per elemento\n",
    "let sum = &a + &b;\n",
    "println!(\"Somma elemento per elemento a + b: {:?}\", sum);\n",
    "\n",
    "let product = &a * &b;\n",
    "println!(\"Prodotto elemento per elemento a * b: {:?}\", product);"
   ]
  },
  {
   "cell_type": "markdown",
   "metadata": {},
   "source": "// Creare tensori speciali (con annotazioni di tipo esplicite)\nlet zeros: Tensor<f32> = Tensor::zeros(&[3, 3]);\nlet ones: Tensor<f32> = Tensor::ones(&[3, 3]);\nlet random: Tensor<f32> = Tensor::randn(&[3, 3]);\n\nprintln!(\"Tensore zeri: {:?}\", zeros);\nprintln!(\"Tensore uni: {:?}\", ones);\nprintln!(\"Tensore casuale: {:?}\", random);"
  },
  {
   "cell_type": "code",
   "execution_count": null,
   "metadata": {},
   "outputs": [],
   "source": "// Creare tensore con valori positivi/negativi misti\nlet input = Tensor::from_vec(vec![-2.0, -1.0, 0.0, 1.0, 2.0], vec![5]);\nprintln!(\"Input: {:?}\", input);\n\n// Nota: Le funzioni di attivazione sono disponibili tramite il modulo nn::activation\nprintln!(\"Le operazioni tensoriali RusTorch funzionano correttamente!\");"
  },
  {
   "cell_type": "markdown",
   "metadata": {},
   "source": [
    "## ⚡ Benchmark delle Prestazioni\n",
    "\n",
    "Confrontiamo le prestazioni di diverse operazioni:"
   ]
  },
  {
   "cell_type": "code",
   "execution_count": null,
   "metadata": {},
   "outputs": [],
   "source": "// Benchmark moltiplicazione matriciale\nlet size = 256;\nlet a: Tensor<f32> = Tensor::randn(&[size, size]);\nlet b: Tensor<f32> = Tensor::randn(&[size, size]);\n\nprintln!(\"🏁 Benchmark moltiplicazione matriciale {}x{}...\", size, size);\n\nlet start = Instant::now();\nlet result = a.matmul(&b);\nlet duration = start.elapsed();\n\nprintln!(\"✅ Completato in: {:?}\", duration);\nprintln!(\"📊 Forma risultato: {:?}\", result.shape());\nprintln!(\"📈 Throughput: {:.2} GFLOPS\", \n    (2.0 * size as f64 * size as f64 * size as f64) / (duration.as_secs_f64() * 1e9));"
  },
  {
   "cell_type": "markdown",
   "metadata": {},
   "source": [
    "## 🎉 Conclusione\n",
    "\n",
    "Ora puoi scrivere ed eseguire codice Rust direttamente in Jupyter!\n",
    "\n",
    "**Vantaggi:**\n",
    "- 🚀 Prestazioni Rust native\n",
    "- 🔧 Accesso diretto alle librerie\n",
    "- 🎯 Sicurezza dei tipi\n",
    "- ⚡ Astrazioni a costo zero\n",
    "- 🖥️ Supporto accelerazione GPU\n",
    "\n",
    "**Prossimi Passi:**\n",
    "- Esplorare l'accelerazione GPU con backend CUDA/Metal/OpenCL\n",
    "- Costruire architetture di reti neurali più complesse\n",
    "- Provare modelli transformer e ottimizzatori avanzati\n",
    "\n",
    "Buona programmazione con RusTorch! 🦀⚡"
   ]
  }
 ],
 "metadata": {
  "kernelspec": {
   "display_name": "Rust",
   "language": "rust",
   "name": "rust"
  },
  "language_info": {
   "codemirror_mode": "rust",
   "file_extension": ".rs",
   "mimetype": "text/rust",
   "name": "Rust",
   "pygment_lexer": "rust",
   "version": ""
  }
 },
 "nbformat": 4,
 "nbformat_minor": 4
}