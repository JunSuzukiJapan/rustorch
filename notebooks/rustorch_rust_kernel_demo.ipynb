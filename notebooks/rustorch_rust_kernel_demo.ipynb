{
 "cells": [
  {
   "cell_type": "markdown",
   "metadata": {},
   "source": [
    "# 🦀 RusTorch with Rust Kernel Demo\n",
    "# 🦀 RusTorch Rustカーネルデモ\n",
    "\n",
    "This notebook demonstrates how to use RusTorch directly in Rust within Jupyter!\n",
    "\n",
    "このノートブックでは、Jupyter内でRustを直接使ってRusTorchを使用する方法を示します！"
   ]
  },
  {
   "cell_type": "markdown",
   "metadata": {},
   "source": [
    "## 📦 Install RusTorch\n",
    "## 📦 RusTorchをインストール\n",
    "\n",
    "First, let's add RusTorch as a dependency:\n",
    "\n",
    "まず、RusTorchを依存関係として追加しましょう："
   ]
  },
  {
   "cell_type": "code",
   "execution_count": null,
   "metadata": {},
   "outputs": [],
   "source": [
    ":dep rustorch = \"0.5.11\"\n",
    ":dep ndarray = \"0.16\""
   ]
  },
  {
   "cell_type": "markdown",
   "metadata": {},
   "source": [
    "## 🎯 Basic Tensor Operations\n",
    "## 🎯 基本的なテンソル操作"
   ]
  },
  {
   "cell_type": "code",
   "execution_count": null,
   "metadata": {},
   "outputs": [],
   "source": [
    "use rustorch::prelude::*;\n",
    "\n",
    "// Create tensors\n",
    "let a = Tensor::from_vec(vec![1.0, 2.0, 3.0, 4.0], vec![2, 2]);\n",
    "let b = Tensor::from_vec(vec![5.0, 6.0, 7.0, 8.0], vec![2, 2]);\n",
    "\n",
    "println!(\"Tensor a: {:?}\", a);\n",
    "println!(\"Tensor b: {:?}\", b);"
   ]
  },
  {
   "cell_type": "code",
   "execution_count": null,
   "metadata": {},
   "outputs": [],
   "source": [
    "// Matrix multiplication\n",
    "let result = a.matmul(&b).expect(\"Matrix multiplication failed\");\n",
    "println!(\"Matrix multiplication result: {:?}\", result);\n",
    "\n",
    "// Element-wise operations\n",
    "let sum = &a + &b;\n",
    "println!(\"Element-wise sum: {:?}\", sum);\n",
    "\n",
    "let product = &a * &b;\n",
    "println!(\"Element-wise product: {:?}\", product);"
   ]
  },
  {
   "cell_type": "markdown",
   "metadata": {},
   "source": [
    "## 🧮 Advanced Operations\n",
    "## 🧮 高度な操作"
   ]
  },
  {
   "cell_type": "code",
   "execution_count": null,
   "metadata": {},
   "outputs": [],
   "source": [
    "// Create special tensors (with explicit type annotations)\n",
    "let zeros: Tensor<f32> = Tensor::zeros(&[3, 3]);\n",
    "let ones: Tensor<f32> = Tensor::ones(&[3, 3]);\n",
    "let random: Tensor<f32> = Tensor::randn(&[3, 3]);\n",
    "\n",
    "println!(\"Zeros tensor: {:?}\", zeros);\n",
    "println!(\"Ones tensor: {:?}\", ones);\n",
    "println!(\"Random tensor: {:?}\", random);\n",
    "\n",
    "// Apply activation functions\n",
    "// Note: Using activation functions from nn module\n",
    "println!(\"Tensor operations completed successfully!\");"
   ]
  },
  {
   "cell_type": "markdown",
   "metadata": {},
   "source": [
    "## 🤖 Neural Network Example\n",
    "## 🤖 ニューラルネットワークの例"
   ]
  },
  {
   "cell_type": "code",
   "execution_count": null,
   "metadata": {},
   "outputs": [],
   "source": [
    "use rustorch::nn::*;\n",
    "\n",
    "// Create basic neural network layers\n",
    "let linear1: Linear<f32> = Linear::new(784, 128);\n",
    "let linear2: Linear<f32> = Linear::new(128, 10);\n",
    "\n",
    "println!(\"ニューラルネットワーク層を作成しました\");\n",
    "println!(\"入力層: 784 → 隠れ層: 128 → 出力層: 10\");\n",
    "\n",
    "// Create sample input\n",
    "let input: Tensor<f32> = Tensor::randn(&[1, 784]); // Batch size 1, 784 features\n",
    "\n",
    "// Demonstrate layer creation (forward pass requires more complex setup)\n",
    "println!(\"Input shape: {:?}\", input.shape());\n",
    "println!(\"Linear layer 1: 784 → 128 neurons\");\n",
    "println!(\"Linear layer 2: 128 → 10 output classes\");\n",
    "println!(\"ニューラルネットワーク層の設定が完了しました！\");"
   ]
  },
  {
   "cell_type": "markdown",
   "metadata": {},
   "source": [
    "## ⚡ Performance Benchmarks\n",
    "## ⚡ パフォーマンスベンチマーク"
   ]
  },
  {
   "cell_type": "code",
   "execution_count": null,
   "metadata": {},
   "outputs": [],
   "source": [
    "use std::time::Instant;\n",
    "\n",
    "// Benchmark matrix multiplication\n",
    "let size = 500;\n",
    "let a: Tensor<f32> = Tensor::randn(&[size, size]);\n",
    "let b: Tensor<f32> = Tensor::randn(&[size, size]);\n",
    "\n",
    "println!(\"🏁 Benchmarking {}x{} matrix multiplication...\", size, size);\n",
    "\n",
    "let start = Instant::now();\n",
    "let result = a.matmul(&b).expect(\"Matrix multiplication failed\");\n",
    "let duration = start.elapsed();\n",
    "\n",
    "println!(\"✅ Completed in: {:?}\", duration);\n",
    "println!(\"📊 Result shape: {:?}\", result.shape());\n",
    "println!(\"📈 Throughput: {:.2} GFLOPS\", \n",
    "    (2.0 * size as f64 * size as f64 * size as f64) / (duration.as_secs_f64() * 1e9));"
   ]
  },
  {
   "cell_type": "markdown",
   "metadata": {},
   "source": [
    "## 🎉 Conclusion\n",
    "## 🎉 まとめ\n",
    "\n",
    "You can now write and execute Rust code directly in Jupyter!\n",
    "\n",
    "これでJupyter内で直接Rustコードを書いて実行できます！\n",
    "\n",
    "**Benefits / 利点:**\n",
    "- 🚀 Native Rust performance / ネイティブRustパフォーマンス\n",
    "- 🔧 Direct library access / ライブラリへの直接アクセス\n",
    "- 🎯 Type safety / 型安全性\n",
    "- ⚡ Zero-cost abstractions / ゼロコスト抽象化"
   ]
  }
 ],
 "metadata": {
  "kernelspec": {
   "display_name": "Rust",
   "language": "rust",
   "name": "rust"
  },
  "language_info": {
   "codemirror_mode": "rust",
   "file_extension": ".rs",
   "mimetype": "text/rust",
   "name": "Rust",
   "pygment_lexer": "rust",
   "version": ""
  }
 },
 "nbformat": 4,
 "nbformat_minor": 4
}
