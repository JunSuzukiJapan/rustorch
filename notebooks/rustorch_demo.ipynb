{
 "cells": [
  {
   "cell_type": "markdown",
   "metadata": {},
   "source": [
    "# RusTorch Python Demo\n",
    "\n",
    "This notebook demonstrates how to use RusTorch from Python with high-performance Rust backend."
   ]
  },
  {
   "cell_type": "code",
   "execution_count": null,
   "metadata": {},
   "outputs": [],
   "source": [
    "# Import RusTorch\n",
    "import rustorch\n",
    "import numpy as np\n",
    "import time"
   ]
  },
  {
   "cell_type": "markdown",
   "metadata": {},
   "source": [
    "## Basic Tensor Operations"
   ]
  },
  {
   "cell_type": "code",
   "execution_count": null,
   "metadata": {},
   "outputs": [],
   "source": [
    "# Create tensors\n",
    "a = rustorch.zeros([2, 3])\n",
    "b = rustorch.ones([2, 3])\n",
    "c = rustorch.randn([2, 3])\n",
    "\n",
    "print(f\"Zero tensor: {a}\")\n",
    "print(f\"Ones tensor: {b}\")\n",
    "print(f\"Random tensor: {c}\")"
   ]
  },
  {
   "cell_type": "markdown",
   "metadata": {},
   "source": [
    "## Tensor Addition"
   ]
  },
  {
   "cell_type": "code",
   "execution_count": null,
   "metadata": {},
   "outputs": [],
   "source": [
    "# Tensor addition\n",
    "result = a.add(b)\n",
    "print(f\"a + b = {result}\")\n",
    "print(f\"Shape: {result.shape()}\")\n",
    "print(f\"Data: {result.data()}\")"
   ]
  },
  {
   "cell_type": "markdown",
   "metadata": {},
   "source": [
    "## Matrix Multiplication"
   ]
  },
  {
   "cell_type": "code",
   "execution_count": null,
   "metadata": {},
   "outputs": [],
   "source": [
    "# Matrix multiplication\n",
    "x = rustorch.PyTensor([1.0, 2.0, 3.0, 4.0], [2, 2])\n",
    "y = rustorch.PyTensor([5.0, 6.0, 7.0, 8.0], [2, 2])\n",
    "\n",
    "result = x.matmul(y)\n",
    "print(f\"Matrix multiplication result: {result}\")\n",
    "print(f\"Shape: {result.shape()}\")\n",
    "print(f\"Data: {result.data()}\")"
   ]
  },
  {
   "cell_type": "markdown",
   "metadata": {},
   "source": [
    "## Activation Functions"
   ]
  },
  {
   "cell_type": "code",
   "execution_count": null,
   "metadata": {},
   "outputs": [],
   "source": [
    "# Activation functions\n",
    "input_tensor = rustorch.PyTensor([-2.0, -1.0, 0.0, 1.0, 2.0], [5])\n",
    "\n",
    "relu_result = input_tensor.relu()\n",
    "sigmoid_result = input_tensor.sigmoid()\n",
    "\n",
    "print(f\"Input: {input_tensor.data()}\")\n",
    "print(f\"ReLU: {relu_result.data()}\")\n",
    "print(f\"Sigmoid: {sigmoid_result.data()}\")"
   ]
  },
  {
   "cell_type": "markdown",
   "metadata": {},
   "source": [
    "## Performance Comparison"
   ]
  },
  {
   "cell_type": "code",
   "execution_count": null,
   "metadata": {},
   "outputs": [],
   "source": [
    "# Performance comparison with NumPy\n",
    "size = 1000\n",
    "\n",
    "# RusTorch\n",
    "start = time.time()\n",
    "rust_a = rustorch.randn([size, size])\n",
    "rust_b = rustorch.randn([size, size])\n",
    "rust_result = rust_a.matmul(rust_b)\n",
    "rust_time = time.time() - start\n",
    "\n",
    "# NumPy\n",
    "start = time.time()\n",
    "np_a = np.random.randn(size, size).astype(np.float32)\n",
    "np_b = np.random.randn(size, size).astype(np.float32)\n",
    "np_result = np.dot(np_a, np_b)\n",
    "numpy_time = time.time() - start\n",
    "\n",
    "print(f\"RusTorch time: {rust_time:.4f}s\")\n",
    "print(f\"NumPy time: {numpy_time:.4f}s\")\n",
    "print(f\"Speedup: {numpy_time/rust_time:.2f}x\")"
   ]
  }
 ],
 "metadata": {
  "kernelspec": {
   "display_name": "Python 3",
   "language": "python",
   "name": "python3"
  },
  "language_info": {
   "codemirror_mode": {
    "name": "ipython",
    "version": 3
   },
   "file_extension": ".py",
   "mimetype": "text/x-python",
   "name": "python",
   "nbconvert_exporter": "python",
   "pygments_lexer": "ipython3",
   "version": "3.13.7"
  }
 },
 "nbformat": 4,
 "nbformat_minor": 4
}