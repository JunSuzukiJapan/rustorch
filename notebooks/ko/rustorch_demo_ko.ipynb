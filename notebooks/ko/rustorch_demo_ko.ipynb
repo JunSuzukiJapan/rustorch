{
 "cells": [
  {
   "cell_type": "markdown",
   "id": "intro",
   "metadata": {},
   "source": [
    "# RusTorch 한국어 데모 🚀\n",
    "\n",
    "RusTorch에 오신 것을 환영합니다! 이 노트북은 PyTorch와 유사한 API를 가진 프로덕션 준비 Rust 딥러닝 라이브러리의 핵심 기능을 보여줍니다.\n",
    "\n",
    "## 시연 기능들:\n",
    "- 🔥 **텐서 연산**: 텐서 생성, 조작 및 계산\n",
    "- 🧮 **행렬 연산**: 최적화된 성능의 선형대수\n",
    "- 🧠 **신경망 레이어**: 딥러닝을 위한 구성 요소들\n",
    "- ⚡ **성능**: Rust 기반 속도와 GPU 가속\n",
    "\n",
    "시작해보겠습니다!"
   ]
  },
  {
   "cell_type": "code",
   "execution_count": null,
   "id": "imports",
   "metadata": {},
   "outputs": [],
   "source": [
    "# RusTorch와 기타 필요한 라이브러리 임포트\n",
    "import rustorch\n",
    "import numpy as np\n",
    "import time\n",
    "\n",
    "print(\"RusTorch 임포트 성공!\")\n",
    "print(f\"사용 가능한 연산들: {dir(rustorch)}\")"
   ]
  },
  {
   "cell_type": "markdown",
   "id": "basic-tensors",
   "metadata": {},
   "source": [
    "## 1. 기본 텐서 생성\n",
    "\n",
    "RusTorch는 텐서를 생성하는 여러 방법을 제공하며, PyTorch와 유사하지만 Rust의 성능 이점을 가집니다."
   ]
  },
  {
   "cell_type": "code",
   "execution_count": null,
   "id": "tensor-creation",
   "metadata": {},
   "outputs": [],
   "source": [
    "# 다양한 유형의 텐서 생성\n",
    "영텐서 = rustorch.zeros([3, 4])\n",
    "일텐서 = rustorch.ones([3, 4])\n",
    "랜덤텐서 = rustorch.randn([3, 4])\n",
    "사용자정의텐서 = rustorch.PyTensor([1.0, 2.0, 3.0, 4.0, 5.0, 6.0], [2, 3])\n",
    "\n",
    "print(\"영 텐서:\")\n",
    "print(f\"  모양: {영텐서.shape()}\")\n",
    "print(f\"  데이터: {영텐서.data()}\")\n",
    "\n",
    "print(\"\\n일 텐서:\")\n",
    "print(f\"  모양: {일텐서.shape()}\")\n",
    "print(f\"  데이터: {일텐서.data()}\")\n",
    "\n",
    "print(\"\\n랜덤 텐서 (정규분포):\")\n",
    "print(f\"  모양: {랜덤텐서.shape()}\")\n",
    "print(f\"  데이터: {랜덤텐서.data()}\")\n",
    "\n",
    "print(\"\\n사용자 정의 텐서:\")\n",
    "print(f\"  모양: {사용자정의텐서.shape()}\")\n",
    "print(f\"  데이터: {사용자정의텐서.data()}\")"
   ]
  },
  {
   "cell_type": "markdown",
   "id": "tensor-ops",
   "metadata": {},
   "source": [
    "## 2. 텐서 연산\n",
    "\n",
    "최적화된 Rust 백엔드로 텐서에 대한 수학적 연산을 수행합니다."
   ]
  },
  {
   "cell_type": "code",
   "execution_count": null,
   "id": "basic-operations",
   "metadata": {},
   "outputs": [],
   "source": [
    "# 기본 산술 연산\n",
    "a = rustorch.PyTensor([1.0, 2.0, 3.0, 4.0], [2, 2])\n",
    "b = rustorch.PyTensor([5.0, 6.0, 7.0, 8.0], [2, 2])\n",
    "\n",
    "# 덧셈\n",
    "덧셈 = a.add(b)\n",
    "print(\"텐서 덧셈:\")\n",
    "print(f\"  A: {a.data()}\")\n",
    "print(f\"  B: {b.data()}\")\n",
    "print(f\"  A + B: {덧셈.data()}\")\n",
    "\n",
    "# 원소별 곱셈\n",
    "곱셈 = a.mul(b)\n",
    "print(\"\\n원소별 곱셈:\")\n",
    "print(f\"  A * B: {곱셈.data()}\")\n",
    "\n",
    "# 행렬 곱셈\n",
    "행렬곱셈 = a.matmul(b)\n",
    "print(\"\\n행렬 곱셈:\")\n",
    "print(f\"  A @ B: {행렬곱셈.data()}\")\n",
    "print(f\"  모양: {행렬곱셈.shape()}\")"
   ]
  },
  {
   "cell_type": "markdown",
   "id": "activations",
   "metadata": {},
   "source": [
    "## 3. 활성화 함수\n",
    "\n",
    "Rust에서 효율적으로 구현된 필수 신경망 활성화 함수들."
   ]
  },
  {
   "cell_type": "code",
   "execution_count": null,
   "id": "activation-functions",
   "metadata": {},
   "outputs": [],
   "source": [
    "# 다양한 값을 가진 입력 텐서 생성\n",
    "입력값들 = [-3.0, -1.5, 0.0, 1.5, 3.0]\n",
    "입력텐서 = rustorch.PyTensor(입력값들, [5])\n",
    "\n",
    "print(f\"입력 값들: {입력값들}\")\n",
    "print()\n",
    "\n",
    "# 다양한 활성화 함수 적용\n",
    "relu출력 = 입력텐서.relu()\n",
    "sigmoid출력 = 입력텐서.sigmoid()\n",
    "tanh출력 = 입력텐서.tanh()\n",
    "\n",
    "print(\"활성화 함수들:\")\n",
    "print(f\"  ReLU:    {relu출력.data()}\")\n",
    "print(f\"  Sigmoid: {sigmoid출력.data()}\")\n",
    "print(f\"  Tanh:    {tanh출력.data()}\")\n",
    "\n",
    "# 수학적 속성 보여주기\n",
    "print(\"\\n수학적 속성들:\")\n",
    "print(f\"  ReLU는 음수 값을 0으로 클리핑합니다\")\n",
    "print(f\"  Sigmoid는 0부터 1까지의 출력 범위를 가집니다\")\n",
    "print(f\"  Tanh는 -1부터 1까지의 출력 범위를 가집니다\")"
   ]
  },
  {
   "cell_type": "markdown",
   "id": "neural-network",
   "metadata": {},
   "source": [
    "## 4. 간단한 신경망 예제\n",
    "\n",
    "RusTorch의 텐서 연산을 사용하여 기본 신경망을 구축합니다."
   ]
  },
  {
   "cell_type": "code",
   "execution_count": null,
   "id": "neural-network-demo",
   "metadata": {},
   "outputs": [],
   "source": [
    "# 간단한 2층 신경망 정의\n",
    "def 간단한_순전파(입력데이터, 가중치1, 편향1, 가중치2, 편향2):\n",
    "    \"\"\"\n",
    "    2층 신경망을 통해 순전파를 수행합니다.\n",
    "    \"\"\"\n",
    "    # 레이어 1: 선형 변환 + ReLU 활성화\n",
    "    레이어1_선형 = 입력데이터.matmul(가중치1).add(편향1)\n",
    "    레이어1_출력 = 레이어1_선형.relu()\n",
    "    \n",
    "    # 레이어 2: 선형 변환 + Sigmoid 활성화\n",
    "    레이어2_선형 = 레이어1_출력.matmul(가중치2).add(편향2)\n",
    "    출력 = 레이어2_선형.sigmoid()\n",
    "    \n",
    "    return 출력, 레이어1_출력\n",
    "\n",
    "# 네트워크 매개변수 초기화\n",
    "입력크기, 은닉크기, 출력크기 = 3, 4, 2\n",
    "\n",
    "# 입력 데이터 생성 (배치크기=2, 입력크기=3)\n",
    "입력데이터 = rustorch.PyTensor([0.5, -0.2, 1.0, -1.0, 0.8, 0.3], [2, 3])\n",
    "\n",
    "# 작은 랜덤 값으로 가중치와 편향 초기화\n",
    "가중치1 = rustorch.randn([입력크기, 은닉크기]).mul(rustorch.PyTensor([0.1], [1]))\n",
    "편향1 = rustorch.zeros([1, 은닉크기])\n",
    "가중치2 = rustorch.randn([은닉크기, 출력크기]).mul(rustorch.PyTensor([0.1], [1]))\n",
    "편향2 = rustorch.zeros([1, 출력크기])\n",
    "\n",
    "# 순전파\n",
    "출력, 은닉 = 간단한_순전파(입력데이터, 가중치1, 편향1, 가중치2, 편향2)\n",
    "\n",
    "print(\"신경망 순전파:\")\n",
    "print(f\"  입력 모양: {입력데이터.shape()}\")\n",
    "print(f\"  입력 데이터: {입력데이터.data()}\")\n",
    "print(f\"  은닉층 모양: {은닉.shape()}\")\n",
    "print(f\"  은닉층 출력: {은닉.data()}\")\n",
    "print(f\"  최종 출력 모양: {출력.shape()}\")\n",
    "print(f\"  최종 출력: {출력.data()}\")\n",
    "print(f\"  (sigmoid 활성화로 인해 출력 값은 0-1 사이입니다)\")"
   ]
  },
  {
   "cell_type": "markdown",
   "id": "performance",
   "metadata": {},
   "source": [
    "## 5. 성능 비교\n",
    "\n",
    "행렬 연산에서 RusTorch와 NumPy의 성능을 비교합니다."
   ]
  },
  {
   "cell_type": "code",
   "execution_count": null,
   "id": "performance-benchmark",
   "metadata": {},
   "outputs": [],
   "source": [
    "# 성능 벤치마크: 행렬 곱셈\n",
    "크기들 = [100, 500, 1000]\n",
    "\n",
    "print(\"성능 비교: RusTorch vs NumPy\")\n",
    "print(\"=\" * 50)\n",
    "\n",
    "for 크기 in 크기들:\n",
    "    print(f\"\\n행렬 크기: {크기}x{크기}\")\n",
    "    \n",
    "    # RusTorch 벤치마크\n",
    "    시작시간 = time.time()\n",
    "    rust_a = rustorch.randn([크기, 크기])\n",
    "    rust_b = rustorch.randn([크기, 크기])\n",
    "    rust_결과 = rust_a.matmul(rust_b)\n",
    "    rust_시간 = time.time() - 시작시간\n",
    "    \n",
    "    # NumPy 벤치마크\n",
    "    시작시간 = time.time()\n",
    "    numpy_a = np.random.randn(크기, 크기).astype(np.float32)\n",
    "    numpy_b = np.random.randn(크기, 크기).astype(np.float32)\n",
    "    numpy_결과 = np.dot(numpy_a, numpy_b)\n",
    "    numpy_시간 = time.time() - 시작시간\n",
    "    \n",
    "    # 속도 향상 계산\n",
    "    속도향상 = numpy_시간 / rust_시간 if rust_시간 > 0 else float('inf')\n",
    "    \n",
    "    print(f\"  RusTorch: {rust_시간:.4f}s\")\n",
    "    print(f\"  NumPy:    {numpy_시간:.4f}s\")\n",
    "    print(f\"  속도향상:  {속도향상:.2f}x {'(RusTorch가 더 빠름)' if 속도향상 > 1 else '(NumPy가 더 빠름)'}\")\n",
    "\n",
    "print(\"\\n\" + \"=\" * 50)\n",
    "print(\"참고: 성능은 시스템 구성과 사용 가능한 최적화에 따라 달라질 수 있습니다.\")\n",
    "print(\"GPU 가속이 활성화되면 RusTorch 성능이 크게 향상됩니다.\")"
   ]
  },
  {
   "cell_type": "markdown",
   "id": "conclusion",
   "metadata": {},
   "source": [
    "## 🎉 결론\n",
    "\n",
    "이 데모에서 RusTorch의 핵심 기능들을 보여드렸습니다:\n",
    "\n",
    "✅ **텐서 생성 및 조작**: PyTorch와 유사한 사용하기 쉬운 API  \n",
    "✅ **수학적 연산**: 최적화된 선형대수 연산들  \n",
    "✅ **신경망 구성 요소**: 활성화 함수와 레이어 연산들  \n",
    "✅ **성능**: Rust 기반 속도와 잠재적 GPU 가속  \n",
    "\n",
    "### 다음 단계들:\n",
    "- CUDA/Metal/OpenCL 백엔드로 GPU 가속 탐색\n",
    "- 더 복잡한 신경망 아키텍처 구축\n",
    "- Transformer 모델과 고급 옵티마이저 시도\n",
    "- 브라우저 기반 ML을 위한 WebGPU 지원 확인\n",
    "\n",
    "### 자료들:\n",
    "- 📚 [문서](https://docs.rs/rustorch)\n",
    "- 🚀 [GitHub 저장소](https://github.com/JunSuzukiJapan/rustorch)\n",
    "- 📓 [완전한 Jupyter 설정 가이드](../../README_JUPYTER.md)\n",
    "\n",
    "RusTorch와 함께 즐거운 코딩하세요! 🦀⚡"
   ]
  }
 ],
 "metadata": {
  "kernelspec": {
   "display_name": "Python 3",
   "language": "python",
   "name": "python3"
  },
  "language_info": {
   "codemirror_mode": {
    "name": "ipython",
    "version": 3
   },
   "file_extension": ".py",
   "mimetype": "text/x-python",
   "name": "python",
   "nbconvert_exporter": "python",
   "pygments_lexer": "ipython3",
   "version": "3.9.0"
  }
 },
 "nbformat": 4,
 "nbformat_minor": 5
}