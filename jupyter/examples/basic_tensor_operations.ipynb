{
 "cells": [
  {
   "cell_type": "markdown",
   "metadata": {},
   "source": [
    "# RusTorch Basic Tensor Operations in Jupyter Lab\n",
    "# RusTorch 基本テンソル演算 - Jupyter Lab\n",
    "\n",
    "This notebook demonstrates basic tensor operations using RusTorch WASM in Jupyter Lab.\n",
    "\n",
    "このノートブックでは、Jupyter LabでRusTorch WASMを使用した基本的なテンソル演算を実演します。"
   ]
  },
  {
   "cell_type": "markdown",
   "metadata": {},
   "source": [
    "## Setup / セットアップ\n",
    "\n",
    "First, we'll load the RusTorch Jupyter integration module."
   ]
  },
  {
   "cell_type": "code",
   "execution_count": null,
   "metadata": {},
   "outputs": [],
   "source": [
    "// Load RusTorch Jupyter integration\n",
    "// Note: Adjust the path based on your installation\n",
    "const script = document.createElement('script');\n",
    "script.src = '../rustorch_jupyter.js';\n",
    "document.head.appendChild(script);\n",
    "\n",
    "// Wait for script to load\n",
    "await new Promise(resolve => {\n",
    "    script.onload = resolve;\n",
    "});\n",
    "\n",
    "console.log('📚 RusTorch Jupyter integration loaded');"
   ]
  },
  {
   "cell_type": "markdown",
   "metadata": {},
   "source": [
    "## Initialize RusTorch / RusTorch初期化\n",
    "\n",
    "Initialize the WASM module and check capabilities."
   ]
  },
  {
   "cell_type": "code",
   "execution_count": null,
   "metadata": {},
   "outputs": [],
   "source": [
    "// Initialize RusTorch WASM\n",
    "const rustorch = new RusTorchJupyter();\n",
    "await rustorch.initialize();\n",
    "\n",
    "// Check capabilities\n",
    "const utils = await rustorch.utils();\n",
    "const capabilities = await utils.checkCapabilities();\n",
    "console.log('🔍 RusTorch capabilities:', capabilities);"
   ]
  },
  {
   "cell_type": "markdown",
   "metadata": {},
   "source": [
    "## Basic Tensor Operations / 基本テンソル演算\n",
    "\n",
    "Create tensors and perform basic operations."
   ]
  },
  {
   "cell_type": "code",
   "execution_count": null,
   "metadata": {},
   "outputs": [],
   "source": [
    "// Create tensors\n",
    "const tensor_a = await rustorch.createTensor([1.0, 2.0, 3.0, 4.0], [2, 2]);\n",
    "const tensor_b = await rustorch.createTensor([5.0, 6.0, 7.0, 8.0], [2, 2]);\n",
    "\n",
    "console.log('📊 Created tensors:');\n",
    "utils.display(tensor_a, 'Tensor A');\n",
    "utils.display(tensor_b, 'Tensor B');"
   ]
  },
  {
   "cell_type": "code",
   "execution_count": null,
   "metadata": {},
   "outputs": [],
   "source": [
    "// Tensor operations\n",
    "const sum_result = tensor_a.add(tensor_b);\n",
    "const mul_result = tensor_a.mul(tensor_b);\n",
    "const matmul_result = tensor_a.matmul(tensor_b);\n",
    "\n",
    "console.log('🧮 Operation results:');\n",
    "utils.display(sum_result, 'A + B');\n",
    "utils.display(mul_result, 'A * B (element-wise)');\n",
    "utils.display(matmul_result, 'A @ B (matrix multiplication)');"
   ]
  },
  {
   "cell_type": "markdown",
   "metadata": {},
   "source": [
    "## Enhanced Mathematical Functions / 拡張数学関数\n",
    "\n",
    "Demonstrate special mathematical functions available in RusTorch WASM."
   ]
  },
  {
   "cell_type": "code",
   "execution_count": null,
   "metadata": {},
   "outputs": [],
   "source": [
    "// Mathematical functions\n",
    "const math = await rustorch.mathFunctions();\n",
    "\n",
    "// Test values\n",
    "const test_values = [0.5, 1.0, 1.5, 2.0, 2.5];\n",
    "\n",
    "console.log('🔢 Mathematical function results:');\n",
    "console.log('Gamma function:', math.gamma(test_values));\n",
    "console.log('Error function:', math.erf(test_values));\n",
    "console.log('Bessel I0:', math.bessel_i(0, test_values));\n",
    "console.log('Log Gamma:', math.log_gamma(test_values));"
   ]
  },
  {
   "cell_type": "markdown",
   "metadata": {},
   "source": [
    "## Statistical Distributions / 統計分布\n",
    "\n",
    "Generate samples from various statistical distributions."
   ]
  },
  {
   "cell_type": "code",
   "execution_count": null,
   "metadata": {},
   "outputs": [],
   "source": [
    "// Statistical distributions\n",
    "const dist = await rustorch.distributions();\n",
    "\n",
    "// Generate samples\n",
    "const normal_samples = dist.normal(1000, 0.0, 1.0);\n",
    "const uniform_samples = dist.uniform(1000, 0.0, 1.0);\n",
    "const exponential_samples = dist.exponential(1000, 1.0);\n",
    "\n",
    "console.log('📈 Distribution samples generated:');\n",
    "console.log('Normal (μ=0, σ=1):', normal_samples.slice(0, 10), '...');\n",
    "console.log('Uniform [0,1):', uniform_samples.slice(0, 10), '...');\n",
    "console.log('Exponential (λ=1):', exponential_samples.slice(0, 10), '...');"
   ]
  },
  {
   "cell_type": "markdown",
   "metadata": {},
   "source": [
    "## Neural Network Example / ニューラルネットワーク例\n",
    "\n",
    "Create and use neural network layers."
   ]
  },
  {
   "cell_type": "code",
   "execution_count": null,
   "metadata": {},
   "outputs": [],
   "source": [
    "// Neural network components\n",
    "const nn = await rustorch.neuralNetwork();\n",
    "\n",
    "// Create layers\n",
    "const linear1 = nn.createLinear(784, 128, true);  // Input layer\n",
    "const linear2 = nn.createLinear(128, 10, true);   // Output layer\n",
    "\n",
    "console.log('🧠 Neural network layers created:');\n",
    "console.log('Layer 1: 784 → 128 (with bias)');\n",
    "console.log('Layer 2: 128 → 10 (with bias)');"
   ]
  },
  {
   "cell_type": "code",
   "execution_count": null,
   "metadata": {},
   "outputs": [],
   "source": [
    "// Forward pass with random input\n",
    "const input_data = new Array(784).fill(0).map(() => Math.random() * 0.1);\n",
    "const input_tensor = await rustorch.createTensor(input_data, [1, 784]);\n",
    "\n",
    "// Forward pass\n",
    "const hidden = linear1.forward(input_tensor.as_slice(), 1, 784);\n",
    "const output = linear2.forward(hidden, 1, 128);\n",
    "\n",
    "console.log('🎯 Forward pass results:');\n",
    "console.log('Input shape: [1, 784]');\n",
    "console.log('Hidden output shape: [1, 128]');\n",
    "console.log('Final output shape: [1, 10]');\n",
    "console.log('Output values:', output.slice(0, 10));"
   ]
  },
  {
   "cell_type": "markdown",
   "metadata": {},
   "source": [
    "## WebGPU Acceleration / WebGPU加速\n",
    "\n",
    "Test WebGPU acceleration if available (Chrome browsers)."
   ]
  },
  {
   "cell_type": "code",
   "execution_count": null,
   "metadata": {},
   "outputs": [],
   "source": [
    "// Check WebGPU support\n",
    "const webgpu = await rustorch.webgpu();\n",
    "\n",
    "if (webgpu) {\n",
    "    console.log('🚀 WebGPU acceleration available!');\n",
    "    \n",
    "    // Benchmark WebGPU vs CPU\n",
    "    const a = new Array(1000).fill(0).map(() => Math.random());\n",
    "    const b = new Array(1000).fill(0).map(() => Math.random());\n",
    "    \n",
    "    // WebGPU operation\n",
    "    const webgpu_time = await utils.benchmark(async () => {\n",
    "        webgpu.tensor_add_cpu(a, b);\n",
    "    }, 100);\n",
    "    \n",
    "    console.log(`⚡ WebGPU tensor addition: ${webgpu_time.toFixed(2)}ms/operation`);\n",
    "} else {\n",
    "    console.log('ℹ️ WebGPU not available, using CPU operations');\n",
    "}"
   ]
  },
  {
   "cell_type": "markdown",
   "metadata": {},
   "source": [
    "## Performance Benchmarking / パフォーマンスベンチマーク\n",
    "\n",
    "Compare performance of different operations."
   ]
  },
  {
   "cell_type": "code",
   "execution_count": null,
   "metadata": {},
   "outputs": [],
   "source": [
    "// Performance benchmarking\n",
    "console.log('📊 Running performance benchmarks...');\n",
    "\n",
    "// Tensor operations benchmark\n",
    "const benchmark_data = new Array(10000).fill(0).map(() => Math.random());\n",
    "const benchmark_tensor = await rustorch.createTensor(benchmark_data, [100, 100]);\n",
    "\n",
    "// Benchmark different operations\n",
    "const add_time = await utils.benchmark(async () => {\n",
    "    benchmark_tensor.add(benchmark_tensor);\n",
    "}, 100);\n",
    "\n",
    "const mul_time = await utils.benchmark(async () => {\n",
    "    benchmark_tensor.mul(benchmark_tensor);\n",
    "}, 100);\n",
    "\n",
    "const sum_time = await utils.benchmark(async () => {\n",
    "    benchmark_tensor.sum();\n",
    "}, 100);\n",
    "\n",
    "console.log('📈 Benchmark Results:');\n",
    "console.log(`- Tensor Addition: ${add_time.toFixed(2)}ms/operation`);\n",
    "console.log(`- Element-wise Multiplication: ${mul_time.toFixed(2)}ms/operation`);\n",
    "console.log(`- Tensor Sum: ${sum_time.toFixed(2)}ms/operation`);"
   ]
  },
  {
   "cell_type": "markdown",
   "metadata": {},
   "source": [
    "## Summary / まとめ\n",
    "\n",
    "This notebook demonstrated:\n",
    "- ✅ Basic tensor operations in Jupyter Lab\n",
    "- ✅ Enhanced mathematical functions (gamma, bessel, error functions)\n",
    "- ✅ Statistical distributions for data science\n",
    "- ✅ Neural network layer creation and forward pass\n",
    "- ✅ WebGPU acceleration testing (Chrome browsers)\n",
    "- ✅ Performance benchmarking utilities\n",
    "\n",
    "RusTorch WASM provides a complete machine learning toolkit for browser-based development!"
   ]
  }
 ],
 "metadata": {
  "kernelspec": {
   "display_name": "JavaScript",
   "language": "javascript",
   "name": "javascript"
  },
  "language_info": {
   "name": "javascript",
   "version": "ES2020"
  }
 },
 "nbformat": 4,
 "nbformat_minor": 4
}