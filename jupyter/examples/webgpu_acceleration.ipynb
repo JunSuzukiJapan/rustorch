{
 "cells": [
  {
   "cell_type": "markdown",
   "metadata": {},
   "source": [
    "# WebGPU Acceleration in Jupyter Lab\n",
    "# Jupyter LabでのWebGPU加速\n",
    "\n",
    "This notebook demonstrates WebGPU acceleration capabilities with RusTorch WASM in Jupyter Lab, specifically optimized for Chrome browsers.\n",
    "\n",
    "このノートブックでは、Chrome ブラウザ向けに特別に最適化された、Jupyter LabでのRusTorch WASMのWebGPU加速機能を実演します。"
   ]
  },
  {
   "cell_type": "markdown",
   "metadata": {},
   "source": [
    "## Prerequisites / 前提条件\n",
    "\n",
    "**Required:** Chrome 113+ with WebGPU enabled\n",
    "\n",
    "### Chrome Setup:\n",
    "1. Open `chrome://flags/#enable-unsafe-webgpu` → Set to **Enabled**\n",
    "2. Open `chrome://flags/#enable-webgpu-developer-features` → Set to **Enabled**\n",
    "3. Restart Chrome\n",
    "4. Verify WebGPU: Open DevTools → Console → `console.log('WebGPU:', !!navigator.gpu)`"
   ]
  },
  {
   "cell_type": "code",
   "execution_count": null,
   "metadata": {},
   "outputs": [],
   "source": [
    "// Load and initialize RusTorch\n",
    "const script = document.createElement('script');\n",
    "script.src = '../rustorch_jupyter.js';\n",
    "document.head.appendChild(script);\n",
    "await new Promise(resolve => { script.onload = resolve; });\n",
    "\n",
    "const rustorch = new RusTorchJupyter();\n",
    "await rustorch.initialize();\n",
    "\n",
    "console.log('🎮 WebGPU acceleration demo initialized');"
   ]
  },
  {
   "cell_type": "markdown",
   "metadata": {},
   "source": [
    "## WebGPU Capability Detection / WebGPU機能検出"
   ]
  },
  {
   "cell_type": "code",
   "execution_count": null,
   "metadata": {},
   "outputs": [],
   "source": [
    "// Check browser WebGPU support\n",
    "console.log('🔍 Browser WebGPU Support Analysis:');\n",
    "console.log('Navigator GPU available:', !!navigator.gpu);\n",
    "console.log('User Agent:', navigator.userAgent);\n",
    "\n",
    "if (navigator.gpu) {\n",
    "    try {\n",
    "        const adapter = await navigator.gpu.requestAdapter({\n",
    "            powerPreference: 'high-performance'\n",
    "        });\n",
    "        \n",
    "        if (adapter) {\n",
    "            console.log('✅ WebGPU adapter found');\n",
    "            console.log('Adapter info:', {\n",
    "                vendor: adapter.info?.vendor || 'Unknown',\n",
    "                architecture: adapter.info?.architecture || 'Unknown',\n",
    "                device: adapter.info?.device || 'Unknown'\n",
    "            });\n",
    "            \n",
    "            const device = await adapter.requestDevice();\n",
    "            console.log('✅ WebGPU device created successfully');\n",
    "            console.log('Device limits:', {\n",
    "                maxTextureDimension2D: device.limits.maxTextureDimension2D,\n",
    "                maxComputeWorkgroupsPerDimension: device.limits.maxComputeWorkgroupsPerDimension\n",
    "            });\n",
    "        } else {\n",
    "            console.log('❌ No WebGPU adapter available');\n",
    "        }\n",
    "    } catch (error) {\n",
    "        console.log('❌ WebGPU initialization failed:', error.message);\n",
    "    }\n",
    "} else {\n",
    "    console.log('❌ WebGPU not supported in this browser');\n",
    "}"
   ]
  },
  {
   "cell_type": "markdown",
   "metadata": {},
   "source": [
    "## RusTorch WebGPU Integration / RusTorch WebGPU統合"
   ]
  },
  {
   "cell_type": "code",
   "execution_count": null,
   "metadata": {},
   "outputs": [],
   "source": [
    "// Initialize RusTorch WebGPU\n",
    "const webgpu = await rustorch.webgpu();\n",
    "const utils = await rustorch.utils();\n",
    "\n",
    "if (webgpu) {\n",
    "    console.log('🚀 RusTorch WebGPU acceleration enabled!');\n",
    "    \n",
    "    // Test basic tensor operations\n",
    "    const test_a = [1, 2, 3, 4, 5, 6, 7, 8];\n",
    "    const test_b = [8, 7, 6, 5, 4, 3, 2, 1];\n",
    "    \n",
    "    console.log('🧮 Testing WebGPU tensor operations:');\n",
    "    const add_result = webgpu.tensor_add_cpu(test_a, test_b);\n",
    "    console.log('Tensor addition result:', add_result);\n",
    "    \n",
    "} else {\n",
    "    console.log('⚠️ WebGPU not available - using CPU fallback');\n",
    "    console.log('💡 To enable WebGPU: Use Chrome 113+ with WebGPU flags enabled');\n",
    "}"
   ]
  },
  {
   "cell_type": "markdown",
   "metadata": {},
   "source": [
    "## Performance Comparison / パフォーマンス比較\n",
    "\n",
    "Compare WebGPU vs CPU performance for different operations."
   ]
  },
  {
   "cell_type": "code",
   "execution_count": null,
   "metadata": {},
   "outputs": [],
   "source": [
    "// Performance benchmarking: WebGPU vs CPU\n",
    "console.log('📊 WebGPU vs CPU Performance Comparison:');\n",
    "\n",
    "const benchmark_sizes = [1000, 5000, 10000];\n",
    "const performance_results = [];\n",
    "\n",
    "for (const size of benchmark_sizes) {\n",
    "    console.log(`\\n🔬 Testing size: ${size} elements`);\n",
    "    \n",
    "    // Generate test data\n",
    "    const data_a = new Array(size).fill(0).map(() => Math.random());\n",
    "    const data_b = new Array(size).fill(0).map(() => Math.random());\n",
    "    \n",
    "    // Create CPU tensor for comparison\n",
    "    const cpu_tensor_a = await rustorch.createTensor(data_a, [Math.sqrt(size), Math.sqrt(size)]);\n",
    "    const cpu_tensor_b = await rustorch.createTensor(data_b, [Math.sqrt(size), Math.sqrt(size)]);\n",
    "    \n",
    "    // CPU benchmark\n",
    "    const cpu_time = await utils.benchmark(async () => {\n",
    "        cpu_tensor_a.add(cpu_tensor_b);\n",
    "    }, 50);\n",
    "    \n",
    "    // WebGPU benchmark (if available)\n",
    "    let webgpu_time = null;\n",
    "    let speedup = null;\n",
    "    \n",
    "    if (webgpu) {\n",
    "        webgpu_time = await utils.benchmark(async () => {\n",
    "            webgpu.tensor_add_cpu(data_a, data_b);\n",
    "        }, 50);\n",
    "        speedup = cpu_time / webgpu_time;\n",
    "    }\n",
    "    \n",
    "    const result = {\n",
    "        size,\n",
    "        cpu_time: cpu_time.toFixed(2),\n",
    "        webgpu_time: webgpu_time ? webgpu_time.toFixed(2) : 'N/A',\n",
    "        speedup: speedup ? speedup.toFixed(2) + 'x' : 'N/A'\n",
    "    };\n",
    "    \n",
    "    performance_results.push(result);\n",
    "    \n",
    "    console.log(`CPU: ${result.cpu_time}ms`);\n",
    "    console.log(`WebGPU: ${result.webgpu_time}ms`);\n",
    "    console.log(`Speedup: ${result.speedup}`);\n",
    "}\n",
    "\n",
    "console.log('\\n📈 Performance Summary:');\n",
    "console.table(performance_results);"
   ]
  },
  {
   "cell_type": "markdown",
   "metadata": {},
   "source": [
    "## Matrix Multiplication Benchmark / 行列乗算ベンチマーク"
   ]
  },
  {
   "cell_type": "code",
   "execution_count": null,
   "metadata": {},
   "outputs": [],
   "source": [
    "// Matrix multiplication performance test\n",
    "console.log('🔢 Matrix Multiplication Performance Test:');\n",
    "\n",
    "if (webgpu) {\n",
    "    const matrix_sizes = [64, 128, 256];\n",
    "    \n",
    "    for (const size of matrix_sizes) {\n",
    "        console.log(`\\n📐 Testing ${size}x${size} matrix multiplication:`);\n",
    "        \n",
    "        // Generate random matrices\n",
    "        const matrix_a = new Array(size * size).fill(0).map(() => Math.random());\n",
    "        const matrix_b = new Array(size * size).fill(0).map(() => Math.random());\n",
    "        \n",
    "        // WebGPU matrix multiplication\n",
    "        const webgpu_matmul_time = await utils.benchmark(async () => {\n",
    "            webgpu.matrix_multiply_cpu(matrix_a, matrix_b, size, size, size);\n",
    "        }, 10);\n",
    "        \n",
    "        // Calculate theoretical FLOPS\n",
    "        const flops = 2 * size * size * size; // 2*N^3 for matrix multiplication\n",
    "        const gflops = (flops / (webgpu_matmul_time / 1000)) / 1e9;\n",
    "        \n",
    "        console.log(`WebGPU time: ${webgpu_matmul_time.toFixed(2)}ms`);\n",
    "        console.log(`Performance: ${gflops.toFixed(2)} GFLOPS`);\n",
    "    }\n",
    "} else {\n",
    "    console.log('⚠️ WebGPU not available - matrix multiplication benchmarks skipped');\n",
    "    console.log('💡 Enable WebGPU in Chrome for GPU-accelerated matrix operations');\n",
    "}"
   ]
  },
  {
   "cell_type": "markdown",
   "metadata": {},
   "source": [
    "## Jupyter Lab Integration Summary / Jupyter Lab統合まとめ\n",
    "\n",
    "### ✅ Completed Features:\n",
    "- **WASM Module Loading**: Automatic initialization with fallback handling\n",
    "- **WebGPU Acceleration**: Chrome-optimized GPU computing with CPU fallback\n",
    "- **Tensor Operations**: Full tensor API with Jupyter-friendly display\n",
    "- **Performance Benchmarking**: Built-in benchmarking utilities\n",
    "- **Error Handling**: Jupyter-specific error management\n",
    "\n",
    "### 🎯 Key Benefits:\n",
    "- **Interactive Development**: Real-time ML experimentation in browser\n",
    "- **No Server Required**: Client-side ML with WASM performance\n",
    "- **GPU Acceleration**: Hardware acceleration where supported\n",
    "- **Educational**: Perfect for learning and teaching ML concepts\n",
    "\n",
    "### 🚀 Next Steps:\n",
    "- Experiment with larger datasets and models\n",
    "- Try different neural network architectures\n",
    "- Explore statistical analysis workflows\n",
    "- Test performance on your specific hardware"
   ]
  }
 ],
 "metadata": {
  "kernelspec": {
   "display_name": "JavaScript",
   "language": "javascript",
   "name": "javascript"
  },
  "language_info": {
   "name": "javascript",
   "version": "ES2020"
  }
 },
 "nbformat": 4,
 "nbformat_minor": 4
}